{
 "cells": [
  {
   "cell_type": "markdown",
   "id": "3c5e6b69-351a-46cc-9881-2c0458baa3f0",
   "metadata": {},
   "source": [
    "## netmamba embeddings"
   ]
  },
  {
   "cell_type": "code",
   "execution_count": null,
   "id": "8a5fd145-c917-40ca-b937-41fb9390d9dc",
   "metadata": {},
   "outputs": [
    {
     "name": "stdout",
     "output_type": "stream",
     "text": [
      "/pscratch/sd/k/kell/demystifying/NetMamba/src\n"
     ]
    },
    {
     "name": "stderr",
     "output_type": "stream",
     "text": [
      "/global/homes/k/kell/scratch/demystifying/netmambaenv/lib/python3.10/site-packages/IPython/core/magics/osm.py:417: UserWarning: This is now an optional IPython functionality, setting dhist requires you to install the `pickleshare` library.\n",
      "  self.shell.db['dhist'] = compress_dhist(dhist)[-100:]\n"
     ]
    }
   ],
   "source": [
    "%cd ../models/NetMamba/src"
   ]
  },
  {
   "cell_type": "code",
   "execution_count": 3,
   "id": "3aace684-83ca-4487-9f50-453a32ca3be4",
   "metadata": {},
   "outputs": [
    {
     "name": "stderr",
     "output_type": "stream",
     "text": [
      "/global/homes/k/kell/scratch/demystifying/netmambaenv/lib/python3.10/site-packages/tqdm/auto.py:21: TqdmWarning: IProgress not found. Please update jupyter and ipywidgets. See https://ipywidgets.readthedocs.io/en/stable/user_install.html\n",
      "  from .autonotebook import tqdm as notebook_tqdm\n"
     ]
    }
   ],
   "source": [
    "from torchvision import datasets, transforms\n",
    "import torch\n",
    "import models_net_mamba\n",
    "from util.pos_embed import interpolate_pos_embed\n",
    "from timm.models.layers import trunc_normal_\n",
    "import os\n",
    "from tqdm import tqdm\n",
    "import copy\n",
    "from collections import defaultdict\n",
    "import threading\n",
    "import pickle"
   ]
  },
  {
   "cell_type": "code",
   "execution_count": 4,
   "id": "ae2383c3-4104-4acd-8af9-2628a70db4eb",
   "metadata": {},
   "outputs": [],
   "source": [
    "os.environ['PATH'] = '/sbin:' + os.environ.get('PATH', '')"
   ]
  },
  {
   "cell_type": "code",
   "execution_count": null,
   "id": "72f076ff-1e89-49e7-8f8a-e7397464d7bd",
   "metadata": {},
   "outputs": [],
   "source": [
    "def build_dataset(data_path):\n",
    "    mean = [0.5]\n",
    "    std = [0.5]\n",
    "\n",
    "    transform = transforms.Compose([\n",
    "        transforms.Grayscale(num_output_channels=1),\n",
    "        transforms.ToTensor(),\n",
    "        transforms.Normalize(mean, std),\n",
    "    ])\n",
    "    dataset = datasets.ImageFolder(data_path, transform=transform)\n",
    "    return dataset\n",
    "\n",
    "def get_embeddings(datafolder, batch_size=64, limit = 10**30, gpus=4):\n",
    "    dataset = build_dataset(datafolder)\n",
    "    sampler = torch.utils.data.SequentialSampler(dataset)\n",
    "    dataloader = torch.utils.data.DataLoader(\n",
    "        dataset, sampler=sampler,\n",
    "        batch_size=batch_size,\n",
    "        num_workers=8\n",
    "    )\n",
    "    model = models_net_mamba.__dict__['net_mamba_classifier'](\n",
    "        num_classes=2,\n",
    "        drop_path_rate=0,\n",
    "    )\n",
    "\n",
    "    checkpoint = torch.load('../models/NetMamba/pre-train.pth', map_location='cpu')\n",
    "    checkpoint_model = checkpoint['model']\n",
    "    state_dict = model.state_dict()\n",
    "    for k in ['head.weight', 'head.bias']:\n",
    "        if k in checkpoint_model and checkpoint_model[k].shape != state_dict[k].shape:\n",
    "            print(f\"Removing key {k} from pretrained checkpoint\")\n",
    "            del checkpoint_model[k]\n",
    "    \n",
    "    # interpolate position embedding\n",
    "    interpolate_pos_embed(model, checkpoint_model)\n",
    "    \n",
    "    # load pre-trained model\n",
    "    msg = model.load_state_dict(checkpoint_model, strict=False)\n",
    "    print(msg)\n",
    "    \n",
    "    # manually initialize fc layer\n",
    "    trunc_normal_(model.head.weight, std=2e-5)\n",
    "\n",
    "    models = {}\n",
    "    for i in range(gpus):\n",
    "        models[i] = copy.deepcopy(model)\n",
    "        models[i].to(f\"cuda:{i}\")\n",
    "    \n",
    "    def encode_and_append(batch, model, result_list, i):\n",
    "        imgs, _ = batch\n",
    "        with torch.no_grad():\n",
    "            result_list.append(model.forward_encoder(imgs.to(f\"cuda:{i}\"), mask_ratio=0.0, if_mask=False)[:, -1, :].cpu())\n",
    "        del imgs\n",
    "        del batch\n",
    "\n",
    "    counter = 0\n",
    "    result_embeddings = []\n",
    "    result_filenames = []\n",
    "    with torch.no_grad():\n",
    "        iterator = iter(dataloader)\n",
    "        try:\n",
    "            for y in tqdm(range(0, min(len(dataloader) // gpus, limit))):\n",
    "                emb = defaultdict(list)\n",
    "                batches = [next(iterator) for i in range(gpus)]\n",
    "                threads = []\n",
    "                for i in range(gpus):\n",
    "                    t = threading.Thread(target=encode_and_append, args=(batches[i], models[i], emb[i], i))\n",
    "                    t.start()\n",
    "                    threads.append(t)\n",
    "                for t in threads:\n",
    "                    t.join()\n",
    "                del batches\n",
    "                result_embeddings.append(torch.cat([torch.cat(emb[i]) for i in emb]))\n",
    "                result_filenames.extend([x[0] for x in dataloader.dataset.samples[y*gpus*batch_size:(y+1)*gpus*batch_size]])\n",
    "                \n",
    "        except StopIteration:\n",
    "            print(\"finished\")\n",
    "        except Exception as e:\n",
    "            print(e)\n",
    "\n",
    "    return torch.cat(result_embeddings), result_filenames\n",
    "    "
   ]
  },
  {
   "cell_type": "code",
   "execution_count": 7,
   "id": "183e68bb-eca8-4f41-95dd-221a2ae4390a",
   "metadata": {},
   "outputs": [],
   "source": [
    "labels = ['cross', 'cicids', 'cicapt', 'caida', 'mawi']"
   ]
  },
  {
   "cell_type": "code",
   "execution_count": 8,
   "id": "a2cbc682-0a1d-47a4-804c-db027fd9ceeb",
   "metadata": {},
   "outputs": [],
   "source": [
    "labels = ['synth']"
   ]
  },
  {
   "cell_type": "code",
   "execution_count": null,
   "id": "4b9922b8-07ca-4228-9dc4-6aee2cf32271",
   "metadata": {},
   "outputs": [
    {
     "name": "stdout",
     "output_type": "stream",
     "text": [
      "perf\n",
      "_IncompatibleKeys(missing_keys=['head.weight', 'head.bias'], unexpected_keys=['mask_token', 'decoder_pos_embed', 'decoder_embed.weight', 'decoder_embed.bias', 'decoder_blocks.0.mixer.A_log', 'decoder_blocks.0.mixer.D', 'decoder_blocks.0.mixer.in_proj.weight', 'decoder_blocks.0.mixer.conv1d.weight', 'decoder_blocks.0.mixer.conv1d.bias', 'decoder_blocks.0.mixer.x_proj.weight', 'decoder_blocks.0.mixer.dt_proj.weight', 'decoder_blocks.0.mixer.dt_proj.bias', 'decoder_blocks.0.mixer.out_proj.weight', 'decoder_blocks.0.norm.weight', 'decoder_blocks.1.mixer.A_log', 'decoder_blocks.1.mixer.D', 'decoder_blocks.1.mixer.in_proj.weight', 'decoder_blocks.1.mixer.conv1d.weight', 'decoder_blocks.1.mixer.conv1d.bias', 'decoder_blocks.1.mixer.x_proj.weight', 'decoder_blocks.1.mixer.dt_proj.weight', 'decoder_blocks.1.mixer.dt_proj.bias', 'decoder_blocks.1.mixer.out_proj.weight', 'decoder_blocks.1.norm.weight', 'decoder_norm_f.weight', 'decoder_pred.weight', 'decoder_pred.bias'])\n"
     ]
    },
    {
     "name": "stderr",
     "output_type": "stream",
     "text": [
      "0it [00:00, ?it/s]\n"
     ]
    },
    {
     "ename": "RuntimeError",
     "evalue": "torch.cat(): expected a non-empty list of Tensors",
     "output_type": "error",
     "traceback": [
      "\u001b[0;31m---------------------------------------------------------------------------\u001b[0m",
      "\u001b[0;31mRuntimeError\u001b[0m                              Traceback (most recent call last)",
      "Cell \u001b[0;32mIn[9], line 3\u001b[0m\n\u001b[1;32m      1\u001b[0m \u001b[38;5;28;01mfor\u001b[39;00m label \u001b[38;5;129;01min\u001b[39;00m labels:\n\u001b[1;32m      2\u001b[0m     \u001b[38;5;28mprint\u001b[39m(label)\n\u001b[0;32m----> 3\u001b[0m     emb \u001b[38;5;241m=\u001b[39m \u001b[43mget_embeddings\u001b[49m\u001b[43m(\u001b[49m\u001b[38;5;124;43mf\u001b[39;49m\u001b[38;5;124;43m\"\u001b[39;49m\u001b[38;5;124;43m/dev/shm/data/\u001b[39;49m\u001b[38;5;132;43;01m{\u001b[39;49;00m\u001b[43mlabel\u001b[49m\u001b[38;5;132;43;01m}\u001b[39;49;00m\u001b[38;5;124;43m/array_sampled\u001b[39;49m\u001b[38;5;124;43m\"\u001b[39;49m\u001b[43m,\u001b[49m\u001b[43m \u001b[49m\u001b[43mbatch_size\u001b[49m\u001b[38;5;241;43m=\u001b[39;49m\u001b[38;5;241;43m512\u001b[39;49m\u001b[43m)\u001b[49m\n\u001b[1;32m      4\u001b[0m     \u001b[38;5;28;01mwith\u001b[39;00m \u001b[38;5;28mopen\u001b[39m(\u001b[38;5;124mf\u001b[39m\u001b[38;5;124m\"\u001b[39m\u001b[38;5;124m/dev/shm/data/netmamba_\u001b[39m\u001b[38;5;132;01m{\u001b[39;00mlabel\u001b[38;5;132;01m}\u001b[39;00m\u001b[38;5;124m_emb.pkl\u001b[39m\u001b[38;5;124m\"\u001b[39m, \u001b[38;5;124m\"\u001b[39m\u001b[38;5;124mbw\u001b[39m\u001b[38;5;124m\"\u001b[39m) \u001b[38;5;28;01mas\u001b[39;00m f:\n\u001b[1;32m      5\u001b[0m         pickle\u001b[38;5;241m.\u001b[39mdump(emb, f)\n",
      "Cell \u001b[0;32mIn[7], line 81\u001b[0m, in \u001b[0;36mget_embeddings\u001b[0;34m(datafolder, batch_size, limit, gpus)\u001b[0m\n\u001b[1;32m     78\u001b[0m     \u001b[38;5;28;01mexcept\u001b[39;00m \u001b[38;5;167;01mException\u001b[39;00m \u001b[38;5;28;01mas\u001b[39;00m e:\n\u001b[1;32m     79\u001b[0m         \u001b[38;5;28mprint\u001b[39m(e)\n\u001b[0;32m---> 81\u001b[0m \u001b[38;5;28;01mreturn\u001b[39;00m \u001b[43mtorch\u001b[49m\u001b[38;5;241;43m.\u001b[39;49m\u001b[43mcat\u001b[49m\u001b[43m(\u001b[49m\u001b[43mresult_embeddings\u001b[49m\u001b[43m)\u001b[49m, result_filenames\n",
      "\u001b[0;31mRuntimeError\u001b[0m: torch.cat(): expected a non-empty list of Tensors"
     ]
    }
   ],
   "source": [
    "for label in labels:\n",
    "    print(label)\n",
    "    emb = get_embeddings(f\"../data/{label}/array_sampled\", batch_size=512)\n",
    "    with open(f\"../data/netmamba_{label}_emb.pkl\", \"bw\") as f:\n",
    "        pickle.dump(emb, f)"
   ]
  },
  {
   "cell_type": "code",
   "execution_count": null,
   "id": "c9f26fec-5065-481a-bb1a-764d3a9a6a98",
   "metadata": {},
   "outputs": [
    {
     "name": "stdout",
     "output_type": "stream",
     "text": [
      "_IncompatibleKeys(missing_keys=['head.weight', 'head.bias'], unexpected_keys=['mask_token', 'decoder_pos_embed', 'decoder_embed.weight', 'decoder_embed.bias', 'decoder_blocks.0.mixer.A_log', 'decoder_blocks.0.mixer.D', 'decoder_blocks.0.mixer.in_proj.weight', 'decoder_blocks.0.mixer.conv1d.weight', 'decoder_blocks.0.mixer.conv1d.bias', 'decoder_blocks.0.mixer.x_proj.weight', 'decoder_blocks.0.mixer.dt_proj.weight', 'decoder_blocks.0.mixer.dt_proj.bias', 'decoder_blocks.0.mixer.out_proj.weight', 'decoder_blocks.0.norm.weight', 'decoder_blocks.1.mixer.A_log', 'decoder_blocks.1.mixer.D', 'decoder_blocks.1.mixer.in_proj.weight', 'decoder_blocks.1.mixer.conv1d.weight', 'decoder_blocks.1.mixer.conv1d.bias', 'decoder_blocks.1.mixer.x_proj.weight', 'decoder_blocks.1.mixer.dt_proj.weight', 'decoder_blocks.1.mixer.dt_proj.bias', 'decoder_blocks.1.mixer.out_proj.weight', 'decoder_blocks.1.norm.weight', 'decoder_norm_f.weight', 'decoder_pred.weight', 'decoder_pred.bias'])\n"
     ]
    },
    {
     "name": "stderr",
     "output_type": "stream",
     "text": [
      "100%|██████████| 472/472 [00:05<00:00, 89.98it/s] \n"
     ]
    }
   ],
   "source": [
    "label = \"synth\"\n",
    "emb = get_embeddings(f\"../data/{label}/array_sampled\", batch_size=1, gpus=1)\n",
    "with open(f\"../data/netmamba_{label}_emb.pkl\", \"bw\") as f:\n",
    "    pickle.dump(emb, f)"
   ]
  },
  {
   "cell_type": "code",
   "execution_count": null,
   "id": "29822f6e-2501-444e-b6e0-597c85c9b747",
   "metadata": {},
   "outputs": [],
   "source": []
  }
 ],
 "metadata": {
  "kernelspec": {
   "display_name": "netmamba",
   "language": "python",
   "name": "netmamba"
  },
  "language_info": {
   "codemirror_mode": {
    "name": "ipython",
    "version": 3
   },
   "file_extension": ".py",
   "mimetype": "text/x-python",
   "name": "python",
   "nbconvert_exporter": "python",
   "pygments_lexer": "ipython3",
   "version": "3.10.13"
  }
 },
 "nbformat": 4,
 "nbformat_minor": 5
}
