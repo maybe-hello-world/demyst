{
 "cells": [
  {
   "cell_type": "markdown",
   "id": "45d772e0-d6e6-4280-8e69-709fe40e2312",
   "metadata": {},
   "source": [
    "# etbert feature perturbation"
   ]
  },
  {
   "cell_type": "code",
   "execution_count": 1,
   "id": "7168e4be-c1f1-4432-998b-252ad3b3ef94",
   "metadata": {
    "jupyter": {
     "source_hidden": true
    }
   },
   "outputs": [],
   "source": [
    "import numpy as np\n",
    "\n",
    "# define CKA\n",
    "\n",
    "def gram_linear(x):\n",
    "    \"\"\"Compute Gram (kernel) matrix for a linear kernel.\n",
    "\n",
    "    Args:\n",
    "        x: A num_examples x num_features matrix of features.\n",
    "\n",
    "    Returns:\n",
    "        A num_examples x num_examples Gram matrix of examples.\n",
    "    \"\"\"\n",
    "    return x.dot(x.T)\n",
    "\n",
    "\n",
    "def gram_rbf(x, threshold=1.0):\n",
    "    \"\"\"Compute Gram (kernel) matrix for an RBF kernel.\n",
    "\n",
    "    Args:\n",
    "        x: A num_examples x num_features matrix of features.\n",
    "        threshold: Fraction of median Euclidean distance to use as RBF kernel\n",
    "        bandwidth. (This is the heuristic we use in the paper. There are other\n",
    "        possible ways to set the bandwidth; we didn't try them.)\n",
    "\n",
    "    Returns:\n",
    "        A num_examples x num_examples Gram matrix of examples.\n",
    "    \"\"\"\n",
    "    dot_products = x.dot(x.T)\n",
    "    sq_norms = np.diag(dot_products)\n",
    "    sq_distances = -2 * dot_products + sq_norms[:, None] + sq_norms[None, :]\n",
    "    sq_median_distance = np.median(sq_distances)\n",
    "    return np.exp(-sq_distances / (2 * threshold ** 2 * sq_median_distance))\n",
    "\n",
    "\n",
    "def center_gram(gram, unbiased=False):\n",
    "    \"\"\"Center a symmetric Gram matrix.\n",
    "\n",
    "    This is equvialent to centering the (possibly infinite-dimensional) features\n",
    "    induced by the kernel before computing the Gram matrix.\n",
    "\n",
    "    Args:\n",
    "        gram: A num_examples x num_examples symmetric matrix.\n",
    "        unbiased: Whether to adjust the Gram matrix in order to compute an unbiased\n",
    "        estimate of HSIC. Note that this estimator may be negative.\n",
    "\n",
    "    Returns:\n",
    "        A symmetric matrix with centered columns and rows.\n",
    "    \"\"\"\n",
    "    if not np.allclose(gram, gram.T):\n",
    "        raise ValueError('Input must be a symmetric matrix.')\n",
    "    gram = gram.copy()\n",
    "\n",
    "    if unbiased:\n",
    "        # This formulation of the U-statistic, from Szekely, G. J., & Rizzo, M.\n",
    "        # L. (2014). Partial distance correlation with methods for dissimilarities.\n",
    "        # The Annals of Statistics, 42(6), 2382-2412, seems to be more numerically\n",
    "        # stable than the alternative from Song et al. (2007).\n",
    "        n = gram.shape[0]\n",
    "        np.fill_diagonal(gram, 0)\n",
    "        means = np.sum(gram, 0, dtype=np.float64) / (n - 2)\n",
    "        means -= np.sum(means) / (2 * (n - 1))\n",
    "        gram -= means[:, None]\n",
    "        gram -= means[None, :]\n",
    "        np.fill_diagonal(gram, 0)\n",
    "    else:\n",
    "        means = np.mean(gram, 0, dtype=np.float64)\n",
    "        means -= np.mean(means) / 2\n",
    "        gram -= means[:, None]\n",
    "        gram -= means[None, :]\n",
    "\n",
    "    return gram\n",
    "\n",
    "\n",
    "def cka(gram_x, gram_y, debiased=False):\n",
    "    \"\"\"Compute CKA.\n",
    "\n",
    "    Args:\n",
    "        gram_x: A num_examples x num_examples Gram matrix.\n",
    "        gram_y: A num_examples x num_examples Gram matrix.\n",
    "        debiased: Use unbiased estimator of HSIC. CKA may still be biased.\n",
    "\n",
    "    Returns:\n",
    "        The value of CKA between X and Y.\n",
    "    \"\"\"\n",
    "    gram_x = center_gram(gram_x, unbiased=debiased)\n",
    "    gram_y = center_gram(gram_y, unbiased=debiased)\n",
    "\n",
    "    # Note: To obtain HSIC, this should be divided by (n-1)**2 (biased variant) or\n",
    "    # n*(n-3) (unbiased variant), but this cancels for CKA.\n",
    "    scaled_hsic = gram_x.ravel().dot(gram_y.ravel())\n",
    "\n",
    "    normalization_x = np.linalg.norm(gram_x)\n",
    "    normalization_y = np.linalg.norm(gram_y)\n",
    "    return scaled_hsic / (normalization_x * normalization_y)\n",
    "\n",
    "\n",
    "def _debiased_dot_product_similarity_helper(\n",
    "    xty, sum_squared_rows_x, sum_squared_rows_y, squared_norm_x, squared_norm_y,\n",
    "    n):\n",
    "  \"\"\"Helper for computing debiased dot product similarity (i.e. linear HSIC).\"\"\"\n",
    "  # This formula can be derived by manipulating the unbiased estimator from\n",
    "  # Song et al. (2007).\n",
    "  return (\n",
    "      xty - n / (n - 2.) * sum_squared_rows_x.dot(sum_squared_rows_y)\n",
    "      + squared_norm_x * squared_norm_y / ((n - 1) * (n - 2)))\n",
    "\n",
    "\n",
    "def feature_space_linear_cka(features_x, features_y, debiased=False):\n",
    "    \"\"\"Compute CKA with a linear kernel, in feature space.\n",
    "\n",
    "    This is typically faster than computing the Gram matrix when there are fewer\n",
    "    features than examples.\n",
    "\n",
    "    Args:\n",
    "        features_x: A num_examples x num_features matrix of features.\n",
    "        features_y: A num_examples x num_features matrix of features.\n",
    "        debiased: Use unbiased estimator of dot product similarity. CKA may still be\n",
    "        biased. Note that this estimator may be negative.\n",
    "\n",
    "    Returns:\n",
    "        The value of CKA between X and Y.\n",
    "    \"\"\"\n",
    "    features_x = features_x - np.mean(features_x, 0, keepdims=True)\n",
    "    features_y = features_y - np.mean(features_y, 0, keepdims=True)\n",
    "\n",
    "    dot_product_similarity = np.linalg.norm(features_x.T.dot(features_y)) ** 2\n",
    "    normalization_x = np.linalg.norm(features_x.T.dot(features_x))\n",
    "    normalization_y = np.linalg.norm(features_y.T.dot(features_y))\n",
    "\n",
    "    if debiased:\n",
    "        n = features_x.shape[0]\n",
    "        # Equivalent to np.sum(features_x ** 2, 1) but avoids an intermediate array.\n",
    "        sum_squared_rows_x = np.einsum('ij,ij->i', features_x, features_x)\n",
    "        sum_squared_rows_y = np.einsum('ij,ij->i', features_y, features_y)\n",
    "        squared_norm_x = np.sum(sum_squared_rows_x)\n",
    "        squared_norm_y = np.sum(sum_squared_rows_y)\n",
    "\n",
    "        dot_product_similarity = _debiased_dot_product_similarity_helper(\n",
    "            dot_product_similarity, sum_squared_rows_x, sum_squared_rows_y,\n",
    "            squared_norm_x, squared_norm_y, n)\n",
    "        normalization_x = np.sqrt(_debiased_dot_product_similarity_helper(\n",
    "            normalization_x ** 2, sum_squared_rows_x, sum_squared_rows_x,\n",
    "            squared_norm_x, squared_norm_x, n))\n",
    "        normalization_y = np.sqrt(_debiased_dot_product_similarity_helper(\n",
    "            normalization_y ** 2, sum_squared_rows_y, sum_squared_rows_y,\n",
    "            squared_norm_y, squared_norm_y, n))\n",
    "\n",
    "    return dot_product_similarity / (normalization_x * normalization_y)"
   ]
  },
  {
   "cell_type": "code",
   "execution_count": null,
   "id": "9bdf0f01-c4a7-4867-be1a-3e2bda13e3d0",
   "metadata": {},
   "outputs": [
    {
     "name": "stdout",
     "output_type": "stream",
     "text": [
      "/pscratch/sd/k/kell/demystifying/ET-BERT/src\n"
     ]
    }
   ],
   "source": [
    "# change folder to the source of the etbert\n",
    "\n",
    "from finetuning.run_classifier import Classifier, read_dataset, load_or_initialize_parameters, count_labels_num, batch_loader\n",
    "import torch\n",
    "import numpy as np\n",
    "from collections import defaultdict\n",
    "from argparse import Namespace\n",
    "from uer.layers import *\n",
    "from uer.encoders import *\n",
    "from uer.utils.constants import *\n",
    "from uer.utils import *\n",
    "from uer.utils.optimizers import *\n",
    "from uer.opts import finetune_opts\n",
    "from uer.utils.config import load_hyperparam\n",
    "import argparse\n",
    "from tqdm import tqdm\n",
    "import copy\n",
    "import threading\n",
    "import pickle"
   ]
  },
  {
   "cell_type": "code",
   "execution_count": null,
   "id": "7a44fb6b-b515-4542-b68e-19031f8fe7b8",
   "metadata": {},
   "outputs": [],
   "source": [
    "def get_data_model(datafolder, batch_size=1, pretrained_model=\"../models/ET-BERT/pretrained_model_etbert.bin\"):\n",
    "    parser = argparse.ArgumentParser(formatter_class=argparse.ArgumentDefaultsHelpFormatter)\n",
    "    finetune_opts(parser)\n",
    "    args = []\n",
    "    args += [\"--train_path\", \"dummy\"]\n",
    "    args += [\"--vocab_path\", \"../models/ET-BERT/src/models/encryptd_vocab.txt\"]\n",
    "    args += [\"--dev_path\", \"../models/ET-BERT/cic/test_dataset.tsv\"]\n",
    "    args += [\"--pretrained_model_path\", \"dummy\"]\n",
    "    args = parser.parse_args(args)\n",
    "    args.tokenizer = \"bert\"\n",
    "    args.pooling = \"first\"\n",
    "    args.soft_targets = False\n",
    "    args.topk = 1\n",
    "    args.frozen = False\n",
    "    args.soft_alpha = 0.5\n",
    "    \n",
    "    args = load_hyperparam(args)\n",
    "    args.tokenizer = str2tokenizer[args.tokenizer](args)\n",
    "    args.batch_size = batch_size\n",
    "    args.device = torch.device(\"cuda:1\" if torch.cuda.is_available() else \"cpu\")\n",
    "\n",
    "    def get_model(args, model_path, train_path):\n",
    "        args.pretrained_model_path = model_path\n",
    "        args.train_path = train_path\n",
    "        args.labels_num = count_labels_num(args.train_path)\n",
    "        model = Classifier(args)\n",
    "        load_or_initialize_parameters(args, model)\n",
    "        model = model.to(args.device)\n",
    "        return model\n",
    "\n",
    "    etbert_frozen_model = get_model(args,pretrained_model, f\"{datafolder}/train_dataset.tsv\")\n",
    "    data_etbert = read_dataset(args, f\"{datafolder}/train_dataset.tsv\")\n",
    "\n",
    "    return data_etbert, etbert_frozen_model"
   ]
  },
  {
   "cell_type": "code",
   "execution_count": null,
   "id": "859cbf81-5a56-4b15-b9b4-6cf9e0549d36",
   "metadata": {
    "scrolled": true
   },
   "outputs": [],
   "source": [
    "data, model = get_data_model(\"../data/etbert/output\", batch_size=BATCH_SIZE, pretrained_model=\"../models/ET-BERT/pretrained_model_etbert.bin\")"
   ]
  },
  {
   "cell_type": "code",
   "execution_count": 8,
   "id": "2976cff5-c5eb-4daf-add1-c5c90fc85fac",
   "metadata": {},
   "outputs": [],
   "source": [
    "def encode(model, src_batch, seg_batch):\n",
    "    with torch.no_grad():\n",
    "        src_batch = src_batch.to(\"cuda:1\")\n",
    "        seg_batch = seg_batch.to(\"cuda:1\")\n",
    "        emb = model.embedding(src_batch, seg_batch)\n",
    "        emb = model.encoder(emb, seg_batch)\n",
    "        emb = emb[:, 0, :]   # pooling = first\n",
    "    return emb.cpu()"
   ]
  },
  {
   "cell_type": "code",
   "execution_count": 9,
   "id": "66a770ba-5c0c-460c-bd81-229870e14378",
   "metadata": {},
   "outputs": [],
   "source": [
    "LIMIT=300000"
   ]
  },
  {
   "cell_type": "code",
   "execution_count": 10,
   "id": "241a62cf-0cfb-418c-89a6-54810c168adf",
   "metadata": {},
   "outputs": [],
   "source": [
    "def get_embedding(dataset, model, random_mask, batch_size=BATCH_SIZE, random=False):\n",
    "    \"takes dataset, model, and binary mask for indices allowed for perturbation, generates random noise tensor with respect to the mask, applies it to the dataset, gets embeddings, returns resulting noise tensor and embeddings\"\n",
    "    assert random_mask.shape == (128,)\n",
    "    print(f\"random mask density: {random_mask.float().mean().item() * 100}\")\n",
    "    embeddings = []\n",
    "    total = 0\n",
    "    src = torch.LongTensor([example[0] for example in dataset])\n",
    "\n",
    "    # noise is a random permutation of src in each column or random noise completely\n",
    "    old_src = src.clone()\n",
    "    if not random:\n",
    "        noise = src.clone()\n",
    "        for col in range(128):\n",
    "            perm = torch.randperm(src.size(0))\n",
    "            noise[:, col] = src[perm, col]\n",
    "    else:\n",
    "        noise = torch.randint(low=6, high=60004, size=src.size(), device=src.device)  # random noise in the whole range of available tokens\n",
    "\n",
    "    assert random_mask.shape == (128,)\n",
    "    random_mask = random_mask.unsqueeze(0)\n",
    "    random_mask = random_mask.repeat(src.size(0), 1).bool()\n",
    "    src[random_mask] = noise[random_mask]\n",
    "    print(f\"Similarity: {(src == old_src).float().mean().item()}\")\n",
    "\n",
    "    tgt = torch.LongTensor([example[1] for example in dataset])\n",
    "    seg = torch.LongTensor([example[2] for example in dataset])\n",
    "    loader = batch_loader(batch_size, src, tgt, seg, None)\n",
    "    for src, tgt, seg, _ in tqdm(loader):\n",
    "        perturbed_features = encode(model, src, seg)\n",
    "        embeddings.append(perturbed_features)\n",
    "        total += src.size(0)\n",
    "        if total > LIMIT:\n",
    "            break\n",
    "\n",
    "    embeddings = torch.cat(embeddings)\n",
    "    return embeddings"
   ]
  },
  {
   "cell_type": "code",
   "execution_count": 11,
   "id": "bf0b164b-be25-4fc6-81d4-7a54fd7fec59",
   "metadata": {},
   "outputs": [],
   "source": [
    "def _perturb(random_mask, random=False):\n",
    "    return get_embedding(data, model, random_mask, random=random)"
   ]
  },
  {
   "cell_type": "code",
   "execution_count": 12,
   "id": "dc079a9e-1a31-4152-997a-f7f51c152145",
   "metadata": {},
   "outputs": [],
   "source": [
    "from sklearn.feature_selection import mutual_info_regression\n",
    "import torch\n",
    "\n",
    "# define correlation calculation function\n",
    "\n",
    "def calculate_correlation(emb_original: torch.Tensor, noise: torch.Tensor, emb_perturbed: torch.Tensor) -> np.ndarray:\n",
    "    '''accepts original embedding, noise, and embedding after perturbation, and calculates similarity correlation between noise and each dimension of the perturbation result'''\n",
    "    emb_diff = emb_perturbed - emb_original\n",
    "\n",
    "    cos_sim = torch.nn.functional.cosine_similarity(emb_perturbed, emb_original).mean()\n",
    "    l2_dist = torch.cdist(emb_perturbed, emb_original, p=2).mean()\n",
    "\n",
    "    emb_diff_np = emb_diff.detach().cpu().numpy()\n",
    "    noise_np = noise.detach().cpu().numpy()\n",
    "    noise_np = np.reshape(noise_np, (noise_np.shape[0], -1))\n",
    "    noise_np = noise_np[:, noise_np.any(axis=0)]  # keep only non zero noise columns effectively removing masked out columns \n",
    "\n",
    "    n_dims = emb_diff_np.shape[1]\n",
    "    cka_scores = np.zeros(n_dims)\n",
    "    \n",
    "    for d in tqdm(range(n_dims)):\n",
    "        # extract the nth column as a 2D array\n",
    "        feature_column = emb_diff_np[:, d].reshape(-1, 1)\n",
    "        cka_scores[d] = feature_space_linear_cka(noise_np, feature_column)\n",
    "\n",
    "    return cos_sim, l2_dist, cka_scores\n",
    "\n",
    "def calculate_correlation(emb_original: torch.Tensor,  emb_perturbed: torch.Tensor):\n",
    "    # simplified\n",
    "    return torch.nn.functional.cosine_similarity(emb_perturbed, emb_original).mean()"
   ]
  },
  {
   "cell_type": "code",
   "execution_count": 13,
   "id": "76517369-4e5a-4f1c-8232-dcef3e71ea20",
   "metadata": {},
   "outputs": [
    {
     "name": "stdout",
     "output_type": "stream",
     "text": [
      "random mask density: 0.0\n",
      "Similarity: 1.0\n"
     ]
    },
    {
     "name": "stderr",
     "output_type": "stream",
     "text": [
      "367it [00:05, 63.60it/s]\n"
     ]
    }
   ],
   "source": [
    "# original embeddings\n",
    "original_embeddings = _perturb(torch.tensor([0] * 128))"
   ]
  },
  {
   "cell_type": "code",
   "execution_count": 14,
   "id": "8d4a00a7-ea2d-4405-a476-5c9123a1fb4d",
   "metadata": {},
   "outputs": [],
   "source": [
    "# def calculate_similarity(mask):\n",
    "#     new_emb, new_noise = _perturb(mask)\n",
    "#     cos_sim, l2_dist, correlation = calculate_correlation(original_embeddings, new_noise, new_emb)\n",
    "#     top5_sim = np.argsort(correlation)[-5:]\n",
    "#     print(f\"Cos sim: {cos_sim}\")\n",
    "#     print(f\"L2 distance: {l2_dist}\")\n",
    "#     print(f\"Average similarity: {np.mean(correlation)}\")\n",
    "#     print(f\"Top 5 indices: {top5_sim[::-1]}\")\n",
    "#     print(f\"Top 5 similarity values: {correlation[top5_sim][::-1]}\")\n",
    "#     return cos_sim\n",
    "\n",
    "# simplified\n",
    "def calculate_similarity(mask):\n",
    "    new_emb = _perturb(mask)\n",
    "    cos_sim = calculate_correlation(original_embeddings, new_emb)\n",
    "    print(f\"Cos sim for reordered perturbation: {cos_sim}\")\n",
    "    \n",
    "    new_emb = _perturb(mask, random=True)\n",
    "    cos_sim = calculate_correlation(original_embeddings, new_emb)\n",
    "    print(f\"Cos sim for random source perturbation: {cos_sim}\")\n"
   ]
  },
  {
   "cell_type": "code",
   "execution_count": 15,
   "id": "ab9917e2-7212-4b2d-aeb6-427170a538cd",
   "metadata": {},
   "outputs": [
    {
     "name": "stdout",
     "output_type": "stream",
     "text": [
      "random mask density: 100.0\n",
      "Similarity: 0.4814799129962921\n"
     ]
    },
    {
     "name": "stderr",
     "output_type": "stream",
     "text": [
      "367it [00:04, 90.71it/s]\n"
     ]
    },
    {
     "name": "stdout",
     "output_type": "stream",
     "text": [
      "Cos sim for reordered perturbation: 0.8751679062843323\n",
      "random mask density: 100.0\n",
      "Similarity: 0.00010643732821336016\n"
     ]
    },
    {
     "name": "stderr",
     "output_type": "stream",
     "text": [
      "367it [00:03, 96.35it/s] "
     ]
    },
    {
     "name": "stdout",
     "output_type": "stream",
     "text": [
      "Cos sim for random source perturbation: 0.4821726977825165\n"
     ]
    },
    {
     "name": "stderr",
     "output_type": "stream",
     "text": [
      "\n"
     ]
    }
   ],
   "source": [
    "# 100% random payload\n",
    "calculate_similarity(torch.tensor([1] * 128))"
   ]
  },
  {
   "cell_type": "code",
   "execution_count": 16,
   "id": "180ea8a1-db81-43df-9827-16c47f9e283e",
   "metadata": {},
   "outputs": [
    {
     "name": "stdout",
     "output_type": "stream",
     "text": [
      "random mask density: 25.0\n",
      "Similarity: 0.9562329649925232\n"
     ]
    },
    {
     "name": "stderr",
     "output_type": "stream",
     "text": [
      "367it [00:03, 98.04it/s] \n"
     ]
    },
    {
     "name": "stdout",
     "output_type": "stream",
     "text": [
      "Cos sim for reordered perturbation: 0.9110593795776367\n",
      "random mask density: 25.0\n",
      "Similarity: 0.75\n"
     ]
    },
    {
     "name": "stderr",
     "output_type": "stream",
     "text": [
      "367it [00:03, 94.97it/s] "
     ]
    },
    {
     "name": "stdout",
     "output_type": "stream",
     "text": [
      "Cos sim for random source perturbation: 0.6867071390151978\n"
     ]
    },
    {
     "name": "stderr",
     "output_type": "stream",
     "text": [
      "\n"
     ]
    }
   ],
   "source": [
    "# first 25%\n",
    "calculate_similarity(torch.tensor([1] * 32 + [0] * 96))"
   ]
  },
  {
   "cell_type": "code",
   "execution_count": 17,
   "id": "8000a31c-5a89-4ec1-8691-4e0b9c55f4e6",
   "metadata": {},
   "outputs": [
    {
     "name": "stdout",
     "output_type": "stream",
     "text": [
      "random mask density: 25.0\n",
      "Similarity: 0.9005662202835083\n"
     ]
    },
    {
     "name": "stderr",
     "output_type": "stream",
     "text": [
      "367it [00:03, 96.29it/s] \n"
     ]
    },
    {
     "name": "stdout",
     "output_type": "stream",
     "text": [
      "Cos sim for reordered perturbation: 0.9109728336334229\n",
      "random mask density: 25.0\n",
      "Similarity: 0.7500212788581848\n"
     ]
    },
    {
     "name": "stderr",
     "output_type": "stream",
     "text": [
      "367it [00:03, 95.99it/s] "
     ]
    },
    {
     "name": "stdout",
     "output_type": "stream",
     "text": [
      "Cos sim for random source perturbation: 0.8967830538749695\n"
     ]
    },
    {
     "name": "stderr",
     "output_type": "stream",
     "text": [
      "\n"
     ]
    }
   ],
   "source": [
    "# second 25%\n",
    "calculate_similarity(torch.tensor([0] * 32 + [1] * 32 + [0] * 64))"
   ]
  },
  {
   "cell_type": "code",
   "execution_count": 18,
   "id": "6c5ab842-6770-4e70-b125-60f53251bba9",
   "metadata": {},
   "outputs": [
    {
     "name": "stdout",
     "output_type": "stream",
     "text": [
      "random mask density: 25.0\n",
      "Similarity: 0.806645929813385\n"
     ]
    },
    {
     "name": "stderr",
     "output_type": "stream",
     "text": [
      "367it [00:03, 96.61it/s] \n"
     ]
    },
    {
     "name": "stdout",
     "output_type": "stream",
     "text": [
      "Cos sim for reordered perturbation: 0.8988689184188843\n",
      "random mask density: 25.0\n",
      "Similarity: 0.75\n"
     ]
    },
    {
     "name": "stderr",
     "output_type": "stream",
     "text": [
      "367it [00:03, 94.32it/s]"
     ]
    },
    {
     "name": "stdout",
     "output_type": "stream",
     "text": [
      "Cos sim for random source perturbation: 0.890859842300415\n"
     ]
    },
    {
     "name": "stderr",
     "output_type": "stream",
     "text": [
      "\n"
     ]
    }
   ],
   "source": [
    "# third 25%\n",
    "calculate_similarity(torch.tensor([0] * 64 + [1] * 32 + [0] * 32))"
   ]
  },
  {
   "cell_type": "code",
   "execution_count": 19,
   "id": "0de9df2b-6f77-4bd9-a3ce-e7b2ce317c26",
   "metadata": {},
   "outputs": [
    {
     "name": "stdout",
     "output_type": "stream",
     "text": [
      "random mask density: 25.0\n",
      "Similarity: 0.8174600005149841\n"
     ]
    },
    {
     "name": "stderr",
     "output_type": "stream",
     "text": [
      "367it [00:03, 96.50it/s] \n"
     ]
    },
    {
     "name": "stdout",
     "output_type": "stream",
     "text": [
      "Cos sim for reordered perturbation: 0.8996410965919495\n",
      "random mask density: 25.0\n",
      "Similarity: 0.7500212788581848\n"
     ]
    },
    {
     "name": "stderr",
     "output_type": "stream",
     "text": [
      "367it [00:03, 97.18it/s]"
     ]
    },
    {
     "name": "stdout",
     "output_type": "stream",
     "text": [
      "Cos sim for random source perturbation: 0.8884003162384033\n"
     ]
    },
    {
     "name": "stderr",
     "output_type": "stream",
     "text": [
      "\n"
     ]
    }
   ],
   "source": [
    "# last 25%\n",
    "calculate_similarity(torch.tensor([0] * 96 + [1] * 32))"
   ]
  },
  {
   "cell_type": "code",
   "execution_count": 20,
   "id": "f5c9b266-d020-4523-bc3e-beda2e41b468",
   "metadata": {},
   "outputs": [
    {
     "name": "stdout",
     "output_type": "stream",
     "text": [
      "random mask density: 50.0\n",
      "Similarity: 0.856735348701477\n"
     ]
    },
    {
     "name": "stderr",
     "output_type": "stream",
     "text": [
      "367it [00:03, 97.35it/s] \n"
     ]
    },
    {
     "name": "stdout",
     "output_type": "stream",
     "text": [
      "Cos sim for reordered perturbation: 0.9088921546936035\n",
      "random mask density: 50.0\n",
      "Similarity: 0.5000425577163696\n"
     ]
    },
    {
     "name": "stderr",
     "output_type": "stream",
     "text": [
      "367it [00:03, 96.71it/s]"
     ]
    },
    {
     "name": "stdout",
     "output_type": "stream",
     "text": [
      "Cos sim for random source perturbation: 0.6282389760017395\n"
     ]
    },
    {
     "name": "stderr",
     "output_type": "stream",
     "text": [
      "\n"
     ]
    }
   ],
   "source": [
    "# 50%\n",
    "calculate_similarity(torch.tensor([1] * 64 + [0] * 64))"
   ]
  },
  {
   "cell_type": "code",
   "execution_count": 21,
   "id": "d90083be-3ae6-4580-b23f-c2e202237ac5",
   "metadata": {},
   "outputs": [
    {
     "name": "stdout",
     "output_type": "stream",
     "text": [
      "random mask density: 50.0\n",
      "Similarity: 0.6265965700149536\n"
     ]
    },
    {
     "name": "stderr",
     "output_type": "stream",
     "text": [
      "367it [00:03, 96.86it/s] \n"
     ]
    },
    {
     "name": "stdout",
     "output_type": "stream",
     "text": [
      "Cos sim for reordered perturbation: 0.8821935057640076\n",
      "random mask density: 50.0\n",
      "Similarity: 0.5\n"
     ]
    },
    {
     "name": "stderr",
     "output_type": "stream",
     "text": [
      "367it [00:03, 95.42it/s] \n"
     ]
    },
    {
     "name": "stdout",
     "output_type": "stream",
     "text": [
      "Cos sim for random source perturbation: 0.8456894755363464\n"
     ]
    }
   ],
   "source": [
    "# 50%\n",
    "calculate_similarity(torch.tensor([0] * 64 + [1] * 64))"
   ]
  },
  {
   "cell_type": "code",
   "execution_count": null,
   "id": "37939863-401d-40e5-bb06-46e15ec50109",
   "metadata": {},
   "outputs": [],
   "source": []
  }
 ],
 "metadata": {
  "kernelspec": {
   "display_name": "condaenv",
   "language": "python",
   "name": "condaenv"
  },
  "language_info": {
   "codemirror_mode": {
    "name": "ipython",
    "version": 3
   },
   "file_extension": ".py",
   "mimetype": "text/x-python",
   "name": "python",
   "nbconvert_exporter": "python",
   "pygments_lexer": "ipython3",
   "version": "3.9.15"
  }
 },
 "nbformat": 4,
 "nbformat_minor": 5
}
