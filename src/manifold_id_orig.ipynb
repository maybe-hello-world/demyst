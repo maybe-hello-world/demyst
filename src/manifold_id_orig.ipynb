{
 "cells": [
  {
   "cell_type": "markdown",
   "metadata": {},
   "source": [
    "## Manifold ID calculation"
   ]
  },
  {
   "cell_type": "code",
   "execution_count": 1,
   "metadata": {},
   "outputs": [],
   "source": [
    "import os\n",
    "import numpy as np\n",
    "import pickle\n",
    "from dadapy.data import Data\n",
    "import torch\n",
    "\n",
    "def calculate_id(filepath: str):\n",
    "    with open(filepath, \"rb\") as f:\n",
    "        embeddings, filenames = pickle.load(f)\n",
    "    assert isinstance(embeddings, torch.Tensor)\n",
    "    nantonum = lambda x: torch.nan_to_num(x, nan=0.0, posinf=0.0, neginf=0.0)\n",
    "    embeddings = nantonum(embeddings).numpy()\n",
    "    embeddings = np.nan_to_num(embeddings, nan=0, posinf=0, neginf=0)\n",
    "    dataset = Data(embeddings)\n",
    "    dataset.remove_identical_points()\n",
    "    dataset.compute_distances(maxk=100)\n",
    "    ids = dataset.compute_id_2NN()\n",
    "    print(f\"File: {filepath}, result: {ids}\")"
   ]
  },
  {
   "cell_type": "markdown",
   "metadata": {},
   "source": [
    "### YaTC"
   ]
  },
  {
   "cell_type": "code",
   "execution_count": null,
   "metadata": {},
   "outputs": [
    {
     "name": "stdout",
     "output_type": "stream",
     "text": [
      "WARNING: this method might be very slow for large datasets.\n",
      "We suggest to use something like \"awk '!seen[$0]++'\"\n",
      "73257 overlapping datapoints found: keeping 1503703 unique elements WARNING: the order of points has been changed!\n"
     ]
    },
    {
     "name": "stderr",
     "output_type": "stream",
     "text": [
      "Exception ignored on calling ctypes callback function: <function _ThreadpoolInfo._find_modules_with_dl_iterate_phdr.<locals>.match_module_callback at 0x7f7a0024f940>\n",
      "Traceback (most recent call last):\n",
      "  File \"/global/common/software/m4629/environments/condaenv/lib/python3.9/site-packages/threadpoolctl.py\", line 400, in match_module_callback\n",
      "    self._make_module_from_path(filepath)\n",
      "  File \"/global/common/software/m4629/environments/condaenv/lib/python3.9/site-packages/threadpoolctl.py\", line 515, in _make_module_from_path\n",
      "    module = module_class(filepath, prefix, user_api, internal_api)\n",
      "  File \"/global/common/software/m4629/environments/condaenv/lib/python3.9/site-packages/threadpoolctl.py\", line 606, in __init__\n",
      "    self.version = self.get_version()\n",
      "  File \"/global/common/software/m4629/environments/condaenv/lib/python3.9/site-packages/threadpoolctl.py\", line 646, in get_version\n",
      "    config = get_config().split()\n",
      "AttributeError: 'NoneType' object has no attribute 'split'\n"
     ]
    },
    {
     "name": "stdout",
     "output_type": "stream",
     "text": [
      "File: /dev/shm/data/yatc/cicapt_emb.pkl, result: (12.491301814561444, 0.0, 0.5175253910859321)\n"
     ]
    }
   ],
   "source": [
    "directory = '../data/yatc/'\n",
    "for filename in os.listdir(directory):\n",
    "    filepath = os.path.join(directory, filename)\n",
    "    calculate_id(filepath)"
   ]
  },
  {
   "cell_type": "markdown",
   "metadata": {
    "vscode": {
     "languageId": "plaintext"
    }
   },
   "source": [
    "### ET-BERT"
   ]
  },
  {
   "cell_type": "code",
   "execution_count": null,
   "metadata": {},
   "outputs": [
    {
     "name": "stderr",
     "output_type": "stream",
     "text": [
      "Exception ignored on calling ctypes callback function: <function _ThreadpoolInfo._find_modules_with_dl_iterate_phdr.<locals>.match_module_callback at 0x7fd07c78b4c0>\n",
      "Traceback (most recent call last):\n",
      "  File \"/global/common/software/m4629/environments/condaenv/lib/python3.9/site-packages/threadpoolctl.py\", line 400, in match_module_callback\n",
      "    self._make_module_from_path(filepath)\n",
      "  File \"/global/common/software/m4629/environments/condaenv/lib/python3.9/site-packages/threadpoolctl.py\", line 515, in _make_module_from_path\n",
      "    module = module_class(filepath, prefix, user_api, internal_api)\n",
      "  File \"/global/common/software/m4629/environments/condaenv/lib/python3.9/site-packages/threadpoolctl.py\", line 606, in __init__\n",
      "    self.version = self.get_version()\n",
      "  File \"/global/common/software/m4629/environments/condaenv/lib/python3.9/site-packages/threadpoolctl.py\", line 646, in get_version\n",
      "    config = get_config().split()\n",
      "AttributeError: 'NoneType' object has no attribute 'split'\n",
      "Exception ignored on calling ctypes callback function: <function _ThreadpoolInfo._find_modules_with_dl_iterate_phdr.<locals>.match_module_callback at 0x7fd060b4c8b0>\n",
      "Traceback (most recent call last):\n",
      "  File \"/global/common/software/m4629/environments/condaenv/lib/python3.9/site-packages/threadpoolctl.py\", line 400, in match_module_callback\n",
      "    self._make_module_from_path(filepath)\n",
      "  File \"/global/common/software/m4629/environments/condaenv/lib/python3.9/site-packages/threadpoolctl.py\", line 515, in _make_module_from_path\n",
      "    module = module_class(filepath, prefix, user_api, internal_api)\n",
      "  File \"/global/common/software/m4629/environments/condaenv/lib/python3.9/site-packages/threadpoolctl.py\", line 606, in __init__\n",
      "    self.version = self.get_version()\n",
      "  File \"/global/common/software/m4629/environments/condaenv/lib/python3.9/site-packages/threadpoolctl.py\", line 646, in get_version\n",
      "    config = get_config().split()\n",
      "AttributeError: 'NoneType' object has no attribute 'split'\n"
     ]
    },
    {
     "name": "stdout",
     "output_type": "stream",
     "text": [
      "File: /dev/shm/data/etbert/mawi_emb.pkl, result: (106.9385564690317, 0.0, 13.004788124247368)\n",
      "File: /dev/shm/data/etbert/cross_emb.pkl, result: (108.61692951824216, 0.0, 11.218263084085855)\n"
     ]
    },
    {
     "name": "stderr",
     "output_type": "stream",
     "text": [
      "Exception ignored on calling ctypes callback function: <function _ThreadpoolInfo._find_modules_with_dl_iterate_phdr.<locals>.match_module_callback at 0x7fd079bf1dc0>\n",
      "Traceback (most recent call last):\n",
      "  File \"/global/common/software/m4629/environments/condaenv/lib/python3.9/site-packages/threadpoolctl.py\", line 400, in match_module_callback\n",
      "    self._make_module_from_path(filepath)\n",
      "  File \"/global/common/software/m4629/environments/condaenv/lib/python3.9/site-packages/threadpoolctl.py\", line 515, in _make_module_from_path\n",
      "    module = module_class(filepath, prefix, user_api, internal_api)\n",
      "  File \"/global/common/software/m4629/environments/condaenv/lib/python3.9/site-packages/threadpoolctl.py\", line 606, in __init__\n",
      "    self.version = self.get_version()\n",
      "  File \"/global/common/software/m4629/environments/condaenv/lib/python3.9/site-packages/threadpoolctl.py\", line 646, in get_version\n",
      "    config = get_config().split()\n",
      "AttributeError: 'NoneType' object has no attribute 'split'\n"
     ]
    },
    {
     "name": "stdout",
     "output_type": "stream",
     "text": [
      "File: /dev/shm/data/etbert/cicids_emb.pkl, result: (108.36581885372394, 0.0, 11.753580969448851)\n"
     ]
    },
    {
     "name": "stderr",
     "output_type": "stream",
     "text": [
      "Exception ignored on calling ctypes callback function: <function _ThreadpoolInfo._find_modules_with_dl_iterate_phdr.<locals>.match_module_callback at 0x7fd07c78b550>\n",
      "Traceback (most recent call last):\n",
      "  File \"/global/common/software/m4629/environments/condaenv/lib/python3.9/site-packages/threadpoolctl.py\", line 400, in match_module_callback\n",
      "    self._make_module_from_path(filepath)\n",
      "  File \"/global/common/software/m4629/environments/condaenv/lib/python3.9/site-packages/threadpoolctl.py\", line 515, in _make_module_from_path\n",
      "    module = module_class(filepath, prefix, user_api, internal_api)\n",
      "  File \"/global/common/software/m4629/environments/condaenv/lib/python3.9/site-packages/threadpoolctl.py\", line 606, in __init__\n",
      "    self.version = self.get_version()\n",
      "  File \"/global/common/software/m4629/environments/condaenv/lib/python3.9/site-packages/threadpoolctl.py\", line 646, in get_version\n",
      "    config = get_config().split()\n",
      "AttributeError: 'NoneType' object has no attribute 'split'\n"
     ]
    },
    {
     "name": "stdout",
     "output_type": "stream",
     "text": [
      "File: /dev/shm/data/etbert/cicapt_emb.pkl, result: (131.66183985611315, 0.0, 11.084430115626667)\n"
     ]
    },
    {
     "name": "stderr",
     "output_type": "stream",
     "text": [
      "Exception ignored on calling ctypes callback function: <function _ThreadpoolInfo._find_modules_with_dl_iterate_phdr.<locals>.match_module_callback at 0x7fd07c78b820>\n",
      "Traceback (most recent call last):\n",
      "  File \"/global/common/software/m4629/environments/condaenv/lib/python3.9/site-packages/threadpoolctl.py\", line 400, in match_module_callback\n",
      "    self._make_module_from_path(filepath)\n",
      "  File \"/global/common/software/m4629/environments/condaenv/lib/python3.9/site-packages/threadpoolctl.py\", line 515, in _make_module_from_path\n",
      "    module = module_class(filepath, prefix, user_api, internal_api)\n",
      "  File \"/global/common/software/m4629/environments/condaenv/lib/python3.9/site-packages/threadpoolctl.py\", line 606, in __init__\n",
      "    self.version = self.get_version()\n",
      "  File \"/global/common/software/m4629/environments/condaenv/lib/python3.9/site-packages/threadpoolctl.py\", line 646, in get_version\n",
      "    config = get_config().split()\n",
      "AttributeError: 'NoneType' object has no attribute 'split'\n"
     ]
    },
    {
     "name": "stdout",
     "output_type": "stream",
     "text": [
      "File: /dev/shm/data/etbert/caida_emb.pkl, result: (108.67360174272054, 0.0, 12.393127968377005)\n"
     ]
    }
   ],
   "source": [
    "directory = '../data/etbert/'\n",
    "for filename in os.listdir(directory):\n",
    "    filepath = os.path.join(directory, filename)\n",
    "    calculate_id(filepath)"
   ]
  },
  {
   "cell_type": "markdown",
   "metadata": {},
   "source": [
    "### netFound"
   ]
  },
  {
   "cell_type": "code",
   "execution_count": null,
   "metadata": {},
   "outputs": [
    {
     "name": "stdout",
     "output_type": "stream",
     "text": [
      "WARNING: this method might be very slow for large datasets.\n",
      "We suggest to use something like \"awk '!seen[$0]++'\"\n",
      "750822 overlapping datapoints found: keeping 600858 unique elements WARNING: the order of points has been changed!\n"
     ]
    },
    {
     "name": "stderr",
     "output_type": "stream",
     "text": [
      "Exception ignored on calling ctypes callback function: <function _ThreadpoolInfo._find_modules_with_dl_iterate_phdr.<locals>.match_module_callback at 0x7fc2a7b14ee0>\n",
      "Traceback (most recent call last):\n",
      "  File \"/global/common/software/m4629/environments/condaenv/lib/python3.9/site-packages/threadpoolctl.py\", line 400, in match_module_callback\n",
      "    self._make_module_from_path(filepath)\n",
      "  File \"/global/common/software/m4629/environments/condaenv/lib/python3.9/site-packages/threadpoolctl.py\", line 515, in _make_module_from_path\n",
      "    module = module_class(filepath, prefix, user_api, internal_api)\n",
      "  File \"/global/common/software/m4629/environments/condaenv/lib/python3.9/site-packages/threadpoolctl.py\", line 606, in __init__\n",
      "    self.version = self.get_version()\n",
      "  File \"/global/common/software/m4629/environments/condaenv/lib/python3.9/site-packages/threadpoolctl.py\", line 646, in get_version\n",
      "    config = get_config().split()\n",
      "AttributeError: 'NoneType' object has no attribute 'split'\n"
     ]
    },
    {
     "name": "stdout",
     "output_type": "stream",
     "text": [
      "File: /dev/shm/data/netfound/caida_emb.pkl, result: (5.185414357339131, 0.0, 1.162232537929344)\n",
      "WARNING: this method might be very slow for large datasets.\n",
      "We suggest to use something like \"awk '!seen[$0]++'\"\n",
      "651145 overlapping datapoints found: keeping 925815 unique elements WARNING: the order of points has been changed!\n"
     ]
    },
    {
     "name": "stderr",
     "output_type": "stream",
     "text": [
      "Exception ignored on calling ctypes callback function: <function _ThreadpoolInfo._find_modules_with_dl_iterate_phdr.<locals>.match_module_callback at 0x7fc2a7b14280>\n",
      "Traceback (most recent call last):\n",
      "  File \"/global/common/software/m4629/environments/condaenv/lib/python3.9/site-packages/threadpoolctl.py\", line 400, in match_module_callback\n",
      "    self._make_module_from_path(filepath)\n",
      "  File \"/global/common/software/m4629/environments/condaenv/lib/python3.9/site-packages/threadpoolctl.py\", line 515, in _make_module_from_path\n",
      "    module = module_class(filepath, prefix, user_api, internal_api)\n",
      "  File \"/global/common/software/m4629/environments/condaenv/lib/python3.9/site-packages/threadpoolctl.py\", line 606, in __init__\n",
      "    self.version = self.get_version()\n",
      "  File \"/global/common/software/m4629/environments/condaenv/lib/python3.9/site-packages/threadpoolctl.py\", line 646, in get_version\n",
      "    config = get_config().split()\n",
      "AttributeError: 'NoneType' object has no attribute 'split'\n"
     ]
    },
    {
     "name": "stdout",
     "output_type": "stream",
     "text": [
      "File: /dev/shm/data/netfound/cicapt_emb.pkl, result: (2.839401222041847, 0.0, 0.22954095698603605)\n"
     ]
    }
   ],
   "source": [
    "directory = '../data/netfound/'\n",
    "for filename in os.listdir(directory):\n",
    "    filepath = os.path.join(directory, filename)\n",
    "    calculate_id(filepath)"
   ]
  },
  {
   "cell_type": "markdown",
   "metadata": {},
   "source": [
    "### NetMamba"
   ]
  },
  {
   "cell_type": "code",
   "execution_count": null,
   "metadata": {},
   "outputs": [
    {
     "name": "stdout",
     "output_type": "stream",
     "text": [
      "WARNING: this method might be very slow for large datasets.\n",
      "We suggest to use something like \"awk '!seen[$0]++'\"\n",
      "536 overlapping datapoints found: keeping 998888 unique elements WARNING: the order of points has been changed!\n"
     ]
    },
    {
     "name": "stderr",
     "output_type": "stream",
     "text": [
      "Exception ignored on calling ctypes callback function: <function _ThreadpoolInfo._find_modules_with_dl_iterate_phdr.<locals>.match_module_callback at 0x7f7a0024f5e0>\n",
      "Traceback (most recent call last):\n",
      "  File \"/global/common/software/m4629/environments/condaenv/lib/python3.9/site-packages/threadpoolctl.py\", line 400, in match_module_callback\n",
      "    self._make_module_from_path(filepath)\n",
      "  File \"/global/common/software/m4629/environments/condaenv/lib/python3.9/site-packages/threadpoolctl.py\", line 515, in _make_module_from_path\n",
      "    module = module_class(filepath, prefix, user_api, internal_api)\n",
      "  File \"/global/common/software/m4629/environments/condaenv/lib/python3.9/site-packages/threadpoolctl.py\", line 606, in __init__\n",
      "    self.version = self.get_version()\n",
      "  File \"/global/common/software/m4629/environments/condaenv/lib/python3.9/site-packages/threadpoolctl.py\", line 646, in get_version\n",
      "    config = get_config().split()\n",
      "AttributeError: 'NoneType' object has no attribute 'split'\n"
     ]
    },
    {
     "name": "stdout",
     "output_type": "stream",
     "text": [
      "File: /dev/shm/data/netmamba/netmamba_mawi_emb.pkl, result: (7.636732276454999, 0.0, 0.018322142100005528)\n"
     ]
    },
    {
     "name": "stderr",
     "output_type": "stream",
     "text": [
      "Exception ignored on calling ctypes callback function: <function _ThreadpoolInfo._find_modules_with_dl_iterate_phdr.<locals>.match_module_callback at 0x7f7a5821d940>\n",
      "Traceback (most recent call last):\n",
      "  File \"/global/common/software/m4629/environments/condaenv/lib/python3.9/site-packages/threadpoolctl.py\", line 400, in match_module_callback\n",
      "    self._make_module_from_path(filepath)\n",
      "  File \"/global/common/software/m4629/environments/condaenv/lib/python3.9/site-packages/threadpoolctl.py\", line 515, in _make_module_from_path\n",
      "    module = module_class(filepath, prefix, user_api, internal_api)\n",
      "  File \"/global/common/software/m4629/environments/condaenv/lib/python3.9/site-packages/threadpoolctl.py\", line 606, in __init__\n",
      "    self.version = self.get_version()\n",
      "  File \"/global/common/software/m4629/environments/condaenv/lib/python3.9/site-packages/threadpoolctl.py\", line 646, in get_version\n",
      "    config = get_config().split()\n",
      "AttributeError: 'NoneType' object has no attribute 'split'\n"
     ]
    },
    {
     "name": "stdout",
     "output_type": "stream",
     "text": [
      "94 overlapping datapoints found: keeping 44553 unique elements WARNING: the order of points has been changed!\n",
      "File: /dev/shm/data/netmamba/netmamba_cross_emb.pkl, result: (7.852829626166672, 0.0, 0.26157469308796344)\n",
      "WARNING: this method might be very slow for large datasets.\n",
      "We suggest to use something like \"awk '!seen[$0]++'\"\n"
     ]
    },
    {
     "name": "stderr",
     "output_type": "stream",
     "text": [
      "Exception ignored on calling ctypes callback function: <function _ThreadpoolInfo._find_modules_with_dl_iterate_phdr.<locals>.match_module_callback at 0x7f79fb282e50>\n",
      "Traceback (most recent call last):\n",
      "  File \"/global/common/software/m4629/environments/condaenv/lib/python3.9/site-packages/threadpoolctl.py\", line 400, in match_module_callback\n",
      "    self._make_module_from_path(filepath)\n",
      "  File \"/global/common/software/m4629/environments/condaenv/lib/python3.9/site-packages/threadpoolctl.py\", line 515, in _make_module_from_path\n",
      "    module = module_class(filepath, prefix, user_api, internal_api)\n",
      "  File \"/global/common/software/m4629/environments/condaenv/lib/python3.9/site-packages/threadpoolctl.py\", line 606, in __init__\n",
      "    self.version = self.get_version()\n",
      "  File \"/global/common/software/m4629/environments/condaenv/lib/python3.9/site-packages/threadpoolctl.py\", line 646, in get_version\n",
      "    config = get_config().split()\n",
      "AttributeError: 'NoneType' object has no attribute 'split'\n"
     ]
    },
    {
     "name": "stdout",
     "output_type": "stream",
     "text": [
      "No identical identical points were found\n",
      "File: /dev/shm/data/netmamba/netmamba_cicids_emb.pkl, result: (7.440904684763674, 0.0, 0.1204782236770754)\n",
      "WARNING: this method might be very slow for large datasets.\n",
      "We suggest to use something like \"awk '!seen[$0]++'\"\n"
     ]
    },
    {
     "name": "stderr",
     "output_type": "stream",
     "text": [
      "Exception ignored on calling ctypes callback function: <function _ThreadpoolInfo._find_modules_with_dl_iterate_phdr.<locals>.match_module_callback at 0x7f7a0024faf0>\n",
      "Traceback (most recent call last):\n",
      "  File \"/global/common/software/m4629/environments/condaenv/lib/python3.9/site-packages/threadpoolctl.py\", line 400, in match_module_callback\n",
      "    self._make_module_from_path(filepath)\n",
      "  File \"/global/common/software/m4629/environments/condaenv/lib/python3.9/site-packages/threadpoolctl.py\", line 515, in _make_module_from_path\n",
      "    module = module_class(filepath, prefix, user_api, internal_api)\n",
      "  File \"/global/common/software/m4629/environments/condaenv/lib/python3.9/site-packages/threadpoolctl.py\", line 606, in __init__\n",
      "    self.version = self.get_version()\n",
      "  File \"/global/common/software/m4629/environments/condaenv/lib/python3.9/site-packages/threadpoolctl.py\", line 646, in get_version\n",
      "    config = get_config().split()\n",
      "AttributeError: 'NoneType' object has no attribute 'split'\n"
     ]
    },
    {
     "name": "stdout",
     "output_type": "stream",
     "text": [
      "1159897 overlapping datapoints found: keeping 418657 unique elements WARNING: the order of points has been changed!\n",
      "File: /dev/shm/data/netmamba/netmamba_cicapt_emb.pkl, result: (0.6032662241615578, 0.0, 0.11632678076579382)\n",
      "WARNING: this method might be very slow for large datasets.\n",
      "We suggest to use something like \"awk '!seen[$0]++'\"\n",
      "134874 overlapping datapoints found: keeping 1216806 unique elements WARNING: the order of points has been changed!\n"
     ]
    },
    {
     "name": "stderr",
     "output_type": "stream",
     "text": [
      "Exception ignored on calling ctypes callback function: <function _ThreadpoolInfo._find_modules_with_dl_iterate_phdr.<locals>.match_module_callback at 0x7f790f7748b0>\n",
      "Traceback (most recent call last):\n",
      "  File \"/global/common/software/m4629/environments/condaenv/lib/python3.9/site-packages/threadpoolctl.py\", line 400, in match_module_callback\n",
      "    self._make_module_from_path(filepath)\n",
      "  File \"/global/common/software/m4629/environments/condaenv/lib/python3.9/site-packages/threadpoolctl.py\", line 515, in _make_module_from_path\n",
      "    module = module_class(filepath, prefix, user_api, internal_api)\n",
      "  File \"/global/common/software/m4629/environments/condaenv/lib/python3.9/site-packages/threadpoolctl.py\", line 606, in __init__\n",
      "    self.version = self.get_version()\n",
      "  File \"/global/common/software/m4629/environments/condaenv/lib/python3.9/site-packages/threadpoolctl.py\", line 646, in get_version\n",
      "    config = get_config().split()\n",
      "AttributeError: 'NoneType' object has no attribute 'split'\n"
     ]
    },
    {
     "name": "stdout",
     "output_type": "stream",
     "text": [
      "File: /dev/shm/data/netmamba/netmamba_caida_emb.pkl, result: (6.501296679184701, 0.0, 0.07487610968525336)\n"
     ]
    }
   ],
   "source": [
    "directory = '../data/netmamba/'\n",
    "for filename in os.listdir(directory):\n",
    "    filepath = os.path.join(directory, filename)\n",
    "    calculate_id(filepath)"
   ]
  }
 ],
 "metadata": {
  "kernelspec": {
   "display_name": "condaenv",
   "language": "python",
   "name": "condaenv"
  },
  "language_info": {
   "codemirror_mode": {
    "name": "ipython",
    "version": 3
   },
   "file_extension": ".py",
   "mimetype": "text/x-python",
   "name": "python",
   "nbconvert_exporter": "python",
   "pygments_lexer": "ipython3",
   "version": "3.9.15"
  }
 },
 "nbformat": 4,
 "nbformat_minor": 4
}
