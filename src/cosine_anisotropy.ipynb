{
 "cells": [
  {
   "cell_type": "markdown",
   "id": "60b14488-6f09-4ea7-9b4f-814c03753800",
   "metadata": {},
   "source": [
    "## Cosine similarity anisotropy"
   ]
  },
  {
   "cell_type": "code",
   "execution_count": 1,
   "id": "6d1fb299-eb10-4c4e-afe3-ae8cf8811a17",
   "metadata": {},
   "outputs": [],
   "source": [
    "import os\n",
    "import torch\n",
    "import torch.nn.functional as F\n",
    "import pickle\n",
    "import numpy as np\n",
    "import random\n",
    "import argparse\n",
    "from tqdm import tqdm"
   ]
  },
  {
   "cell_type": "code",
   "execution_count": 2,
   "id": "17441cb4-4c50-4bf8-8e2b-e308490ce88a",
   "metadata": {},
   "outputs": [],
   "source": [
    "def cos_contrib(emb1, emb2):\n",
    "    numerator_terms = emb1 * emb2\n",
    "    denom = np.linalg.norm(emb1) * np.linalg.norm(emb2)\n",
    "    return np.array(numerator_terms / denom)\n",
    "\n",
    "\n",
    "def measure_anisotropy(filepath):\n",
    "    with open(filepath, \"rb\") as f:\n",
    "        embeddings, _ = pickle.load(f)\n",
    "    \n",
    "    indices = torch.randperm(embeddings.size(0))\n",
    "    embeddings = embeddings[indices]\n",
    "    \n",
    "    layer_cosine_contribs = []\n",
    "\n",
    "    for i in tqdm(range(embeddings.shape[0] - 1)):\n",
    "        emb1, emb2 = embeddings[i, :], embeddings[i+1, :]\n",
    "        layer_cosine_contribs.append(cos_contrib(emb1, emb2))\n",
    "    \n",
    "    layer_cosine_contribs = np.stack(layer_cosine_contribs)\n",
    "    layer_cosine_contribs_mean = layer_cosine_contribs.mean(axis=0)\n",
    "    \n",
    "    aniso = layer_cosine_contribs_mean.sum()    \n",
    "    top_dims = np.argsort(layer_cosine_contribs_mean)[-10:]\n",
    "    top_dims = np.flip(top_dims)\n",
    "    \n",
    "    print(f\"### {filepath} ###\")\n",
    "    print(f\"Top 10 dims: {top_dims}\")\n",
    "    print(f\"Estimated anisotropy: {aniso}\")\n",
    "    for i in range(10):\n",
    "        d = top_dims[i]\n",
    "        print(d, layer_cosine_contribs_mean[d])"
   ]
  },
  {
   "cell_type": "markdown",
   "id": "fe6879b4-0ca3-42f3-b074-705e68114fee",
   "metadata": {},
   "source": [
    "### YaTC"
   ]
  },
  {
   "cell_type": "code",
   "execution_count": 3,
   "id": "1854f9ce-3de5-4255-81e0-f4497274237d",
   "metadata": {},
   "outputs": [
    {
     "name": "stderr",
     "output_type": "stream",
     "text": [
      "100%|██████████| 1351679/1351679 [01:12<00:00, 18583.78it/s]\n"
     ]
    },
    {
     "name": "stdout",
     "output_type": "stream",
     "text": [
      "### ../data/yatc/caida_emb.pkl ###\n",
      "Top 10 dims: [129 137 146 191  98  99 170  28  25 157]\n",
      "Estimated anisotropy: 0.865411102771759\n",
      "129 0.21263592\n",
      "137 0.05699241\n",
      "146 0.043920062\n",
      "191 0.023646057\n",
      "98 0.021721823\n",
      "99 0.020705616\n",
      "170 0.017779438\n",
      "28 0.016885027\n",
      "25 0.01393512\n",
      "157 0.013082485\n",
      "caida_emb.pkl - None\n"
     ]
    },
    {
     "name": "stderr",
     "output_type": "stream",
     "text": [
      "100%|██████████| 1576959/1576959 [01:30<00:00, 17366.74it/s]\n"
     ]
    },
    {
     "name": "stdout",
     "output_type": "stream",
     "text": [
      "### ../data/yatc/cicapt_emb.pkl ###\n",
      "Top 10 dims: [129 137  99 191 146 170 190  53 157  98]\n",
      "Estimated anisotropy: 0.8659031391143799\n",
      "129 0.26673865\n",
      "137 0.039190803\n",
      "99 0.03370274\n",
      "191 0.027015366\n",
      "146 0.023962041\n",
      "170 0.019764489\n",
      "190 0.014813196\n",
      "53 0.014804101\n",
      "157 0.013966684\n",
      "98 0.013241946\n",
      "cicapt_emb.pkl - None\n"
     ]
    },
    {
     "name": "stderr",
     "output_type": "stream",
     "text": [
      "100%|██████████| 557055/557055 [00:32<00:00, 16987.07it/s]\n"
     ]
    },
    {
     "name": "stdout",
     "output_type": "stream",
     "text": [
      "### ../data/yatc/cicids_emb.pkl ###\n",
      "Top 10 dims: [129 137 146 191  99  98 170 157  91  25]\n",
      "Estimated anisotropy: 0.8516557216644287\n",
      "129 0.21515563\n",
      "137 0.055743594\n",
      "146 0.038011402\n",
      "191 0.027106835\n",
      "99 0.026548881\n",
      "98 0.01980882\n",
      "170 0.017351635\n",
      "157 0.015405835\n",
      "91 0.012069315\n",
      "25 0.0116455965\n",
      "cicids_emb.pkl - None\n"
     ]
    },
    {
     "name": "stderr",
     "output_type": "stream",
     "text": [
      "100%|██████████| 43007/43007 [00:02<00:00, 18122.05it/s]\n"
     ]
    },
    {
     "name": "stdout",
     "output_type": "stream",
     "text": [
      "### ../data/yatc/cross_emb.pkl ###\n",
      "Top 10 dims: [129 137 146  99 191 170  98 157 190  53]\n",
      "Estimated anisotropy: 0.8554381132125854\n",
      "129 0.24075688\n",
      "137 0.05156711\n",
      "146 0.03332429\n",
      "99 0.027809046\n",
      "191 0.027096847\n",
      "170 0.018212706\n",
      "98 0.017234754\n",
      "157 0.013460992\n",
      "190 0.0125210695\n",
      "53 0.0123032\n",
      "cross_emb.pkl - None\n"
     ]
    },
    {
     "name": "stderr",
     "output_type": "stream",
     "text": [
      "100%|██████████| 999423/999423 [00:56<00:00, 17776.35it/s]\n"
     ]
    },
    {
     "name": "stdout",
     "output_type": "stream",
     "text": [
      "### ../data/yatc/mawi_emb.pkl ###\n",
      "Top 10 dims: [129 137 146  98 191  99  28 170  25 157]\n",
      "Estimated anisotropy: 0.8780504465103149\n",
      "129 0.1916993\n",
      "137 0.054223947\n",
      "146 0.044488553\n",
      "98 0.024154905\n",
      "191 0.023772154\n",
      "99 0.021879213\n",
      "28 0.020735603\n",
      "170 0.017948812\n",
      "25 0.015574772\n",
      "157 0.013815002\n",
      "mawi_emb.pkl - None\n"
     ]
    },
    {
     "name": "stderr",
     "output_type": "stream",
     "text": [
      "100%|██████████| 39/39 [00:00<00:00, 13005.08it/s]\n"
     ]
    },
    {
     "name": "stdout",
     "output_type": "stream",
     "text": [
      "### ../data/yatc/perf_emb.pkl ###\n",
      "Top 10 dims: [146 137  99  53 151 191   8   0 177 157]\n",
      "Estimated anisotropy: 0.4664914011955261\n",
      "146 0.073350415\n",
      "137 0.05819031\n",
      "99 0.03429897\n",
      "53 0.014116148\n",
      "151 0.013221607\n",
      "191 0.0120427115\n",
      "8 0.010854108\n",
      "0 0.010630346\n",
      "177 0.010072563\n",
      "157 0.010047817\n",
      "perf_emb.pkl - None\n"
     ]
    },
    {
     "name": "stderr",
     "output_type": "stream",
     "text": [
      "100%|██████████| 471/471 [00:00<00:00, 16764.54it/s]"
     ]
    },
    {
     "name": "stdout",
     "output_type": "stream",
     "text": [
      "### ../data/yatc/synth_emb.pkl ###\n",
      "Top 10 dims: [129 146  99 137 104  38 151 191 144  91]\n",
      "Estimated anisotropy: 0.8937067985534668\n",
      "129 0.2717587\n",
      "146 0.039089907\n",
      "99 0.035860244\n",
      "137 0.0332283\n",
      "104 0.020407695\n",
      "38 0.017156394\n",
      "151 0.016437395\n",
      "191 0.01504674\n",
      "144 0.0148752\n",
      "91 0.013876657\n",
      "synth_emb.pkl - None\n"
     ]
    },
    {
     "name": "stderr",
     "output_type": "stream",
     "text": [
      "\n"
     ]
    }
   ],
   "source": [
    "directory = '../data/yatc/'\n",
    "for filename in os.listdir(directory):\n",
    "    filepath = os.path.join(directory, filename)\n",
    "    result = measure_anisotropy(filepath)\n",
    "    print(f\"{filename} - {result}\")"
   ]
  },
  {
   "cell_type": "markdown",
   "id": "bdd3a442-b349-4da7-9f92-01aa43f8f690",
   "metadata": {},
   "source": [
    "### ET-BERT"
   ]
  },
  {
   "cell_type": "code",
   "execution_count": 4,
   "id": "b12359d3-ece7-4e58-bac0-0db4ac2ed899",
   "metadata": {},
   "outputs": [
    {
     "name": "stderr",
     "output_type": "stream",
     "text": [
      "100%|██████████| 990721/990721 [00:55<00:00, 17964.30it/s]\n"
     ]
    },
    {
     "name": "stdout",
     "output_type": "stream",
     "text": [
      "### ../data/etbert/caida_emb.pkl ###\n",
      "Top 10 dims: [732 527 434 146 554 273 658 487 731   1]\n",
      "Estimated anisotropy: 0.71210777759552\n",
      "732 0.010904367\n",
      "527 0.010602097\n",
      "434 0.010409167\n",
      "146 0.009280721\n",
      "554 0.008162248\n",
      "273 0.0073591\n",
      "658 0.0070569064\n",
      "487 0.007018146\n",
      "731 0.0067071207\n",
      "1 0.006614727\n",
      "caida_emb.pkl - None\n"
     ]
    },
    {
     "name": "stderr",
     "output_type": "stream",
     "text": [
      "100%|██████████| 1232895/1232895 [01:07<00:00, 18179.33it/s]\n"
     ]
    },
    {
     "name": "stdout",
     "output_type": "stream",
     "text": [
      "### ../data/etbert/cicapt_emb.pkl ###\n",
      "Top 10 dims: [732  98 434 527 658 273 146 487 731 424]\n",
      "Estimated anisotropy: 0.8833835124969482\n",
      "732 0.018100841\n",
      "98 0.012479185\n",
      "434 0.011423393\n",
      "527 0.010416415\n",
      "658 0.010103782\n",
      "273 0.009998572\n",
      "146 0.009342802\n",
      "487 0.009291889\n",
      "731 0.009282329\n",
      "424 0.008284853\n",
      "cicapt_emb.pkl - None\n"
     ]
    },
    {
     "name": "stderr",
     "output_type": "stream",
     "text": [
      "100%|██████████| 438271/438271 [00:24<00:00, 18162.69it/s]\n"
     ]
    },
    {
     "name": "stdout",
     "output_type": "stream",
     "text": [
      "### ../data/etbert/cicids_emb.pkl ###\n",
      "Top 10 dims: [527 732 434 146 554 273 658 487 731   1]\n",
      "Estimated anisotropy: 0.737087607383728\n",
      "527 0.012040578\n",
      "732 0.011936383\n",
      "434 0.011218723\n",
      "146 0.0090443725\n",
      "554 0.008604147\n",
      "273 0.0076598055\n",
      "658 0.0076558427\n",
      "487 0.0073213046\n",
      "731 0.0070838463\n",
      "1 0.0068670968\n",
      "cicids_emb.pkl - None\n"
     ]
    },
    {
     "name": "stderr",
     "output_type": "stream",
     "text": [
      "100%|██████████| 28184/28184 [00:01<00:00, 17676.75it/s]\n"
     ]
    },
    {
     "name": "stdout",
     "output_type": "stream",
     "text": [
      "### ../data/etbert/cross_emb.pkl ###\n",
      "Top 10 dims: [732  98 434 487 273 527 146 658 424 731]\n",
      "Estimated anisotropy: 0.8808528780937195\n",
      "732 0.017033136\n",
      "98 0.012608572\n",
      "434 0.011787814\n",
      "487 0.010169675\n",
      "273 0.0097851185\n",
      "527 0.009545998\n",
      "146 0.009055334\n",
      "658 0.008846505\n",
      "424 0.008018802\n",
      "731 0.007752925\n",
      "cross_emb.pkl - None\n"
     ]
    },
    {
     "name": "stderr",
     "output_type": "stream",
     "text": [
      "100%|██████████| 700415/700415 [00:39<00:00, 17912.77it/s]\n"
     ]
    },
    {
     "name": "stdout",
     "output_type": "stream",
     "text": [
      "### ../data/etbert/mawi_emb.pkl ###\n",
      "Top 10 dims: [527 434 130 146 554  65  32 475   1 732]\n",
      "Estimated anisotropy: 0.7753531336784363\n",
      "527 0.013091619\n",
      "434 0.011235626\n",
      "130 0.0103749\n",
      "146 0.0103641115\n",
      "554 0.008638456\n",
      "65 0.008511971\n",
      "32 0.0075308434\n",
      "475 0.007415808\n",
      "1 0.0068034553\n",
      "732 0.006760994\n",
      "mawi_emb.pkl - None\n"
     ]
    },
    {
     "name": "stderr",
     "output_type": "stream",
     "text": [
      "100%|██████████| 39/39 [00:00<00:00, 9758.27it/s]\n"
     ]
    },
    {
     "name": "stdout",
     "output_type": "stream",
     "text": [
      "### ../data/etbert/perf_emb.pkl ###\n",
      "Top 10 dims: [732 434  98 487 527 146 273 556 731 424]\n",
      "Estimated anisotropy: 0.955191433429718\n",
      "732 0.018963823\n",
      "434 0.01442529\n",
      "98 0.013029771\n",
      "487 0.012491687\n",
      "527 0.01097663\n",
      "146 0.010929242\n",
      "273 0.010522216\n",
      "556 0.0087153325\n",
      "731 0.008630252\n",
      "424 0.008346031\n",
      "perf_emb.pkl - None\n"
     ]
    },
    {
     "name": "stderr",
     "output_type": "stream",
     "text": [
      "100%|██████████| 471/471 [00:00<00:00, 13626.42it/s]"
     ]
    },
    {
     "name": "stdout",
     "output_type": "stream",
     "text": [
      "### ../data/etbert/synth_emb.pkl ###\n",
      "Top 10 dims: [732  98 434 487 658 273 527 424 146 731]\n",
      "Estimated anisotropy: 0.9682331085205078\n",
      "732 0.019504761\n",
      "98 0.014760234\n",
      "434 0.011639453\n",
      "487 0.010605966\n",
      "658 0.010585682\n",
      "273 0.010231343\n",
      "527 0.010223525\n",
      "424 0.010026148\n",
      "146 0.00992473\n",
      "731 0.009624093\n",
      "synth_emb.pkl - None\n"
     ]
    },
    {
     "name": "stderr",
     "output_type": "stream",
     "text": [
      "\n"
     ]
    }
   ],
   "source": [
    "directory = '../data/etbert/'\n",
    "for filename in os.listdir(directory):\n",
    "    filepath = os.path.join(directory, filename)\n",
    "    result = measure_anisotropy(filepath)\n",
    "    print(f\"{filename} - {result}\")"
   ]
  },
  {
   "cell_type": "markdown",
   "id": "c10ee707-25e8-413c-bc59-09369e3a5578",
   "metadata": {},
   "source": [
    "### netFound"
   ]
  },
  {
   "cell_type": "code",
   "execution_count": 5,
   "id": "3d0b745a-b470-4d1b-a387-aa1ed7039f80",
   "metadata": {},
   "outputs": [
    {
     "name": "stderr",
     "output_type": "stream",
     "text": [
      "100%|██████████| 1351679/1351679 [01:15<00:00, 17823.14it/s]\n"
     ]
    },
    {
     "name": "stdout",
     "output_type": "stream",
     "text": [
      "### ../data/netfound/caida_emb.pkl ###\n",
      "Top 10 dims: [ 537  282  816  354  309  131  450  339 1008  220]\n",
      "Estimated anisotropy: 0.8578384518623352\n",
      "537 0.014706018\n",
      "282 0.014426841\n",
      "816 0.00922521\n",
      "354 0.008765003\n",
      "309 0.008046439\n",
      "131 0.0073407227\n",
      "450 0.006339016\n",
      "339 0.0057218834\n",
      "1008 0.005690359\n",
      "220 0.005683669\n",
      "caida_emb.pkl - None\n"
     ]
    },
    {
     "name": "stderr",
     "output_type": "stream",
     "text": [
      "100%|██████████| 1576959/1576959 [01:28<00:00, 17770.26it/s]\n"
     ]
    },
    {
     "name": "stdout",
     "output_type": "stream",
     "text": [
      "### ../data/netfound/cicapt_emb.pkl ###\n",
      "Top 10 dims: [ 309 1008  537  450  429  816  804  282  339  639]\n",
      "Estimated anisotropy: 0.8244582414627075\n",
      "309 0.010214825\n",
      "1008 0.008676095\n",
      "537 0.00812383\n",
      "450 0.007712792\n",
      "429 0.0075981515\n",
      "816 0.007508918\n",
      "804 0.0074566356\n",
      "282 0.007193122\n",
      "339 0.0069275443\n",
      "639 0.006654771\n",
      "cicapt_emb.pkl - None\n"
     ]
    },
    {
     "name": "stderr",
     "output_type": "stream",
     "text": [
      "100%|██████████| 557055/557055 [00:31<00:00, 17900.57it/s]\n"
     ]
    },
    {
     "name": "stdout",
     "output_type": "stream",
     "text": [
      "### ../data/netfound/cicids_emb.pkl ###\n",
      "Top 10 dims: [ 537  282  816  490 1008  309  354  186  339  131]\n",
      "Estimated anisotropy: 0.6974029541015625\n",
      "537 0.010298992\n",
      "282 0.009330481\n",
      "816 0.008544019\n",
      "490 0.0065027713\n",
      "1008 0.006348744\n",
      "309 0.0058152177\n",
      "354 0.0055949176\n",
      "186 0.005393271\n",
      "339 0.0052996716\n",
      "131 0.005242066\n",
      "cicids_emb.pkl - None\n"
     ]
    },
    {
     "name": "stderr",
     "output_type": "stream",
     "text": [
      "100%|██████████| 44543/44543 [00:02<00:00, 17707.68it/s]\n"
     ]
    },
    {
     "name": "stdout",
     "output_type": "stream",
     "text": [
      "### ../data/netfound/cross_emb.pkl ###\n",
      "Top 10 dims: [1008  282  816  537  186  462  490  131  133  246]\n",
      "Estimated anisotropy: 0.6873654723167419\n",
      "1008 0.00936622\n",
      "282 0.008608188\n",
      "816 0.0077941893\n",
      "537 0.0075720083\n",
      "186 0.006471811\n",
      "462 0.005828882\n",
      "490 0.0056572915\n",
      "131 0.0048241275\n",
      "133 0.00453444\n",
      "246 0.004444408\n",
      "cross_emb.pkl - None\n"
     ]
    },
    {
     "name": "stderr",
     "output_type": "stream",
     "text": [
      "100%|██████████| 997375/997375 [00:55<00:00, 17898.32it/s]\n"
     ]
    },
    {
     "name": "stdout",
     "output_type": "stream",
     "text": [
      "### ../data/netfound/mawi_emb.pkl ###\n",
      "Top 10 dims: [ 282  537  354  816  309  131  450  339 1008  639]\n",
      "Estimated anisotropy: 0.9407020807266235\n",
      "282 0.01601847\n",
      "537 0.016012745\n",
      "354 0.0105300415\n",
      "816 0.009666093\n",
      "309 0.0077765035\n",
      "131 0.0076370384\n",
      "450 0.006957253\n",
      "339 0.006576104\n",
      "1008 0.006571175\n",
      "639 0.0065308856\n",
      "mawi_emb.pkl - None\n"
     ]
    },
    {
     "name": "stderr",
     "output_type": "stream",
     "text": [
      "100%|██████████| 39/39 [00:00<00:00, 8356.47it/s]\n"
     ]
    },
    {
     "name": "stdout",
     "output_type": "stream",
     "text": [
      "### ../data/netfound/perf_emb.pkl ###\n",
      "Top 10 dims: [599 981 415 519 462  22 331 325 395 878]\n",
      "Estimated anisotropy: 0.7089725732803345\n",
      "599 0.010789762\n",
      "981 0.010519536\n",
      "415 0.007023431\n",
      "519 0.0069862986\n",
      "462 0.006646792\n",
      "22 0.0063646343\n",
      "331 0.0059830863\n",
      "325 0.005647886\n",
      "395 0.0053256126\n",
      "878 0.005261731\n",
      "perf_emb.pkl - None\n"
     ]
    },
    {
     "name": "stderr",
     "output_type": "stream",
     "text": [
      "100%|██████████| 471/471 [00:00<00:00, 10510.70it/s]"
     ]
    },
    {
     "name": "stdout",
     "output_type": "stream",
     "text": [
      "### ../data/netfound/synth_emb.pkl ###\n",
      "Top 10 dims: [1007  429  636  599  519  878  123  768  415  480]\n",
      "Estimated anisotropy: 0.9443901777267456\n",
      "1007 0.012096071\n",
      "429 0.009647986\n",
      "636 0.00963402\n",
      "599 0.0086316345\n",
      "519 0.0077462075\n",
      "878 0.0070843208\n",
      "123 0.006704348\n",
      "768 0.0066913865\n",
      "415 0.00603047\n",
      "480 0.005978826\n",
      "synth_emb.pkl - None\n"
     ]
    },
    {
     "name": "stderr",
     "output_type": "stream",
     "text": [
      "\n"
     ]
    }
   ],
   "source": [
    "directory = '../data/netfound/'\n",
    "for filename in os.listdir(directory):\n",
    "    filepath = os.path.join(directory, filename)\n",
    "    result = measure_anisotropy(filepath)\n",
    "    print(f\"{filename} - {result}\")"
   ]
  },
  {
   "cell_type": "markdown",
   "id": "7f99407f-03e6-4ef2-b82d-71bb74abc729",
   "metadata": {},
   "source": [
    "### netMamba"
   ]
  },
  {
   "cell_type": "code",
   "execution_count": 6,
   "id": "d8645018-db36-442b-8eca-7a3354a1abf4",
   "metadata": {},
   "outputs": [
    {
     "name": "stderr",
     "output_type": "stream",
     "text": [
      "100%|██████████| 1351679/1351679 [01:11<00:00, 18881.51it/s]\n"
     ]
    },
    {
     "name": "stdout",
     "output_type": "stream",
     "text": [
      "### ../data/netmamba/netmamba_caida_emb.pkl ###\n",
      "Top 10 dims: [ 94 165 175 177 254 242 222  84 225 207]\n",
      "Estimated anisotropy: 0.9928917288780212\n",
      "94 0.026014712\n",
      "165 0.024533119\n",
      "175 0.02285657\n",
      "177 0.021446897\n",
      "254 0.021139132\n",
      "242 0.020985968\n",
      "222 0.019559007\n",
      "84 0.019452285\n",
      "225 0.019061534\n",
      "207 0.018741526\n",
      "netmamba_caida_emb.pkl - None\n"
     ]
    },
    {
     "name": "stderr",
     "output_type": "stream",
     "text": [
      "100%|██████████| 1578553/1578553 [01:25<00:00, 18523.25it/s]\n"
     ]
    },
    {
     "name": "stdout",
     "output_type": "stream",
     "text": [
      "### ../data/netmamba/netmamba_cicapt_emb.pkl ###\n",
      "Top 10 dims: [ 94  37 222 165 175 177  84 225 242 254]\n",
      "Estimated anisotropy: 0.9827951192855835\n",
      "94 0.025563367\n",
      "37 0.022351263\n",
      "222 0.02173882\n",
      "165 0.021533655\n",
      "175 0.021470066\n",
      "177 0.02115106\n",
      "84 0.020247802\n",
      "225 0.02001214\n",
      "242 0.019052235\n",
      "254 0.018873153\n",
      "netmamba_cicapt_emb.pkl - None\n"
     ]
    },
    {
     "name": "stderr",
     "output_type": "stream",
     "text": [
      "100%|██████████| 558883/558883 [00:30<00:00, 18569.59it/s]\n"
     ]
    },
    {
     "name": "stdout",
     "output_type": "stream",
     "text": [
      "### ../data/netmamba/netmamba_cicids_emb.pkl ###\n",
      "Top 10 dims: [ 94 165 175 177 254 222  37 242  84 225]\n",
      "Estimated anisotropy: 0.9207777976989746\n",
      "94 0.025498515\n",
      "165 0.022008564\n",
      "175 0.020857379\n",
      "177 0.020856973\n",
      "254 0.02031274\n",
      "222 0.018931473\n",
      "37 0.018813564\n",
      "242 0.018800039\n",
      "84 0.018328073\n",
      "225 0.018085778\n",
      "netmamba_cicids_emb.pkl - None\n"
     ]
    },
    {
     "name": "stderr",
     "output_type": "stream",
     "text": [
      "100%|██████████| 44646/44646 [00:02<00:00, 18449.36it/s]\n"
     ]
    },
    {
     "name": "stdout",
     "output_type": "stream",
     "text": [
      "### ../data/netmamba/netmamba_cross_emb.pkl ###\n",
      "Top 10 dims: [ 94 175 177 165 254 225 222  37  84 242]\n",
      "Estimated anisotropy: 0.9251422882080078\n",
      "94 0.023438862\n",
      "175 0.021288972\n",
      "177 0.021196235\n",
      "165 0.021158399\n",
      "254 0.02069964\n",
      "225 0.020363314\n",
      "222 0.020335509\n",
      "37 0.020237874\n",
      "84 0.019994263\n",
      "242 0.018872496\n",
      "netmamba_cross_emb.pkl - None\n"
     ]
    },
    {
     "name": "stderr",
     "output_type": "stream",
     "text": [
      "100%|██████████| 999423/999423 [00:53<00:00, 18543.36it/s]\n"
     ]
    },
    {
     "name": "stdout",
     "output_type": "stream",
     "text": [
      "### ../data/netmamba/netmamba_mawi_emb.pkl ###\n",
      "Top 10 dims: [165  94 175 242 254 177 225  84 222 207]\n",
      "Estimated anisotropy: 0.9977025985717773\n",
      "165 0.025580527\n",
      "94 0.025553748\n",
      "175 0.023789516\n",
      "242 0.021901743\n",
      "254 0.021429295\n",
      "177 0.02139116\n",
      "225 0.01939068\n",
      "84 0.019385757\n",
      "222 0.018896874\n",
      "207 0.018696602\n",
      "netmamba_mawi_emb.pkl - None\n"
     ]
    },
    {
     "name": "stderr",
     "output_type": "stream",
     "text": [
      "100%|██████████| 39/39 [00:00<00:00, 15519.72it/s]\n"
     ]
    },
    {
     "name": "stdout",
     "output_type": "stream",
     "text": [
      "### ../data/netmamba/netmamba_perf_emb.pkl ###\n",
      "Top 10 dims: [ 60 254 222 218  37 225 165  47 169 177]\n",
      "Estimated anisotropy: 0.7180217504501343\n",
      "60 0.02292091\n",
      "254 0.019717531\n",
      "222 0.01814854\n",
      "218 0.016579213\n",
      "37 0.016463697\n",
      "225 0.016382962\n",
      "165 0.016339542\n",
      "47 0.016228337\n",
      "169 0.015916266\n",
      "177 0.012348879\n",
      "netmamba_perf_emb.pkl - None\n"
     ]
    },
    {
     "name": "stderr",
     "output_type": "stream",
     "text": [
      "100%|██████████| 471/471 [00:00<00:00, 16809.05it/s]"
     ]
    },
    {
     "name": "stdout",
     "output_type": "stream",
     "text": [
      "### ../data/netmamba/netmamba_synth_emb.pkl ###\n",
      "Top 10 dims: [165 225 254  37  60  94 177 222  84 175]\n",
      "Estimated anisotropy: 0.954470157623291\n",
      "165 0.025490442\n",
      "225 0.024499414\n",
      "254 0.023187943\n",
      "37 0.022753246\n",
      "60 0.021905668\n",
      "94 0.021697994\n",
      "177 0.021658178\n",
      "222 0.021163434\n",
      "84 0.020285957\n",
      "175 0.02023076\n",
      "netmamba_synth_emb.pkl - None\n"
     ]
    },
    {
     "name": "stderr",
     "output_type": "stream",
     "text": [
      "\n"
     ]
    }
   ],
   "source": [
    "directory = '../data/netmamba/'\n",
    "for filename in os.listdir(directory):\n",
    "    filepath = os.path.join(directory, filename)\n",
    "    result = measure_anisotropy(filepath)\n",
    "    print(f\"{filename} - {result}\")"
   ]
  }
 ],
 "metadata": {
  "kernelspec": {
   "display_name": "venv",
   "language": "python",
   "name": "python3"
  },
  "language_info": {
   "codemirror_mode": {
    "name": "ipython",
    "version": 3
   },
   "file_extension": ".py",
   "mimetype": "text/x-python",
   "name": "python",
   "nbconvert_exporter": "python",
   "pygments_lexer": "ipython3",
   "version": "3.9.7"
  }
 },
 "nbformat": 4,
 "nbformat_minor": 5
}
