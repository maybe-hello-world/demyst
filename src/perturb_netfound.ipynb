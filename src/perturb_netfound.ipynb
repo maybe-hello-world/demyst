{
 "cells": [
  {
   "cell_type": "markdown",
   "id": "45d772e0-d6e6-4280-8e69-709fe40e2312",
   "metadata": {},
   "source": [
    "# netFound feature perturbation"
   ]
  },
  {
   "cell_type": "code",
   "execution_count": 1,
   "id": "7168e4be-c1f1-4432-998b-252ad3b3ef94",
   "metadata": {
    "jupyter": {
     "source_hidden": true
    }
   },
   "outputs": [],
   "source": [
    "import numpy as np\n",
    "\n",
    "# define CKA\n",
    "\n",
    "def gram_linear(x):\n",
    "    \"\"\"Compute Gram (kernel) matrix for a linear kernel.\n",
    "\n",
    "    Args:\n",
    "        x: A num_examples x num_features matrix of features.\n",
    "\n",
    "    Returns:\n",
    "        A num_examples x num_examples Gram matrix of examples.\n",
    "    \"\"\"\n",
    "    return x.dot(x.T)\n",
    "\n",
    "\n",
    "def gram_rbf(x, threshold=1.0):\n",
    "    \"\"\"Compute Gram (kernel) matrix for an RBF kernel.\n",
    "\n",
    "    Args:\n",
    "        x: A num_examples x num_features matrix of features.\n",
    "        threshold: Fraction of median Euclidean distance to use as RBF kernel\n",
    "        bandwidth. (This is the heuristic we use in the paper. There are other\n",
    "        possible ways to set the bandwidth; we didn't try them.)\n",
    "\n",
    "    Returns:\n",
    "        A num_examples x num_examples Gram matrix of examples.\n",
    "    \"\"\"\n",
    "    dot_products = x.dot(x.T)\n",
    "    sq_norms = np.diag(dot_products)\n",
    "    sq_distances = -2 * dot_products + sq_norms[:, None] + sq_norms[None, :]\n",
    "    sq_median_distance = np.median(sq_distances)\n",
    "    return np.exp(-sq_distances / (2 * threshold ** 2 * sq_median_distance))\n",
    "\n",
    "\n",
    "def center_gram(gram, unbiased=False):\n",
    "    \"\"\"Center a symmetric Gram matrix.\n",
    "\n",
    "    This is equvialent to centering the (possibly infinite-dimensional) features\n",
    "    induced by the kernel before computing the Gram matrix.\n",
    "\n",
    "    Args:\n",
    "        gram: A num_examples x num_examples symmetric matrix.\n",
    "        unbiased: Whether to adjust the Gram matrix in order to compute an unbiased\n",
    "        estimate of HSIC. Note that this estimator may be negative.\n",
    "\n",
    "    Returns:\n",
    "        A symmetric matrix with centered columns and rows.\n",
    "    \"\"\"\n",
    "    if not np.allclose(gram, gram.T):\n",
    "        raise ValueError('Input must be a symmetric matrix.')\n",
    "    gram = gram.copy()\n",
    "\n",
    "    if unbiased:\n",
    "        # This formulation of the U-statistic, from Szekely, G. J., & Rizzo, M.\n",
    "        # L. (2014). Partial distance correlation with methods for dissimilarities.\n",
    "        # The Annals of Statistics, 42(6), 2382-2412, seems to be more numerically\n",
    "        # stable than the alternative from Song et al. (2007).\n",
    "        n = gram.shape[0]\n",
    "        np.fill_diagonal(gram, 0)\n",
    "        means = np.sum(gram, 0, dtype=np.float64) / (n - 2)\n",
    "        means -= np.sum(means) / (2 * (n - 1))\n",
    "        gram -= means[:, None]\n",
    "        gram -= means[None, :]\n",
    "        np.fill_diagonal(gram, 0)\n",
    "    else:\n",
    "        means = np.mean(gram, 0, dtype=np.float64)\n",
    "        means -= np.mean(means) / 2\n",
    "        gram -= means[:, None]\n",
    "        gram -= means[None, :]\n",
    "\n",
    "    return gram\n",
    "\n",
    "\n",
    "def cka(gram_x, gram_y, debiased=False):\n",
    "    \"\"\"Compute CKA.\n",
    "\n",
    "    Args:\n",
    "        gram_x: A num_examples x num_examples Gram matrix.\n",
    "        gram_y: A num_examples x num_examples Gram matrix.\n",
    "        debiased: Use unbiased estimator of HSIC. CKA may still be biased.\n",
    "\n",
    "    Returns:\n",
    "        The value of CKA between X and Y.\n",
    "    \"\"\"\n",
    "    gram_x = center_gram(gram_x, unbiased=debiased)\n",
    "    gram_y = center_gram(gram_y, unbiased=debiased)\n",
    "\n",
    "    # Note: To obtain HSIC, this should be divided by (n-1)**2 (biased variant) or\n",
    "    # n*(n-3) (unbiased variant), but this cancels for CKA.\n",
    "    scaled_hsic = gram_x.ravel().dot(gram_y.ravel())\n",
    "\n",
    "    normalization_x = np.linalg.norm(gram_x)\n",
    "    normalization_y = np.linalg.norm(gram_y)\n",
    "    return scaled_hsic / (normalization_x * normalization_y)\n",
    "\n",
    "\n",
    "def _debiased_dot_product_similarity_helper(\n",
    "    xty, sum_squared_rows_x, sum_squared_rows_y, squared_norm_x, squared_norm_y,\n",
    "    n):\n",
    "  \"\"\"Helper for computing debiased dot product similarity (i.e. linear HSIC).\"\"\"\n",
    "  # This formula can be derived by manipulating the unbiased estimator from\n",
    "  # Song et al. (2007).\n",
    "  return (\n",
    "      xty - n / (n - 2.) * sum_squared_rows_x.dot(sum_squared_rows_y)\n",
    "      + squared_norm_x * squared_norm_y / ((n - 1) * (n - 2)))\n",
    "\n",
    "\n",
    "def feature_space_linear_cka(features_x, features_y, debiased=False):\n",
    "    \"\"\"Compute CKA with a linear kernel, in feature space.\n",
    "\n",
    "    This is typically faster than computing the Gram matrix when there are fewer\n",
    "    features than examples.\n",
    "\n",
    "    Args:\n",
    "        features_x: A num_examples x num_features matrix of features.\n",
    "        features_y: A num_examples x num_features matrix of features.\n",
    "        debiased: Use unbiased estimator of dot product similarity. CKA may still be\n",
    "        biased. Note that this estimator may be negative.\n",
    "\n",
    "    Returns:\n",
    "        The value of CKA between X and Y.\n",
    "    \"\"\"\n",
    "    features_x = features_x - np.mean(features_x, 0, keepdims=True)\n",
    "    features_y = features_y - np.mean(features_y, 0, keepdims=True)\n",
    "\n",
    "    dot_product_similarity = np.linalg.norm(features_x.T.dot(features_y)) ** 2\n",
    "    normalization_x = np.linalg.norm(features_x.T.dot(features_x))\n",
    "    normalization_y = np.linalg.norm(features_y.T.dot(features_y))\n",
    "\n",
    "    if debiased:\n",
    "        n = features_x.shape[0]\n",
    "        # Equivalent to np.sum(features_x ** 2, 1) but avoids an intermediate array.\n",
    "        sum_squared_rows_x = np.einsum('ij,ij->i', features_x, features_x)\n",
    "        sum_squared_rows_y = np.einsum('ij,ij->i', features_y, features_y)\n",
    "        squared_norm_x = np.sum(sum_squared_rows_x)\n",
    "        squared_norm_y = np.sum(sum_squared_rows_y)\n",
    "\n",
    "        dot_product_similarity = _debiased_dot_product_similarity_helper(\n",
    "            dot_product_similarity, sum_squared_rows_x, sum_squared_rows_y,\n",
    "            squared_norm_x, squared_norm_y, n)\n",
    "        normalization_x = np.sqrt(_debiased_dot_product_similarity_helper(\n",
    "            normalization_x ** 2, sum_squared_rows_x, sum_squared_rows_x,\n",
    "            squared_norm_x, squared_norm_x, n))\n",
    "        normalization_y = np.sqrt(_debiased_dot_product_similarity_helper(\n",
    "            normalization_y ** 2, sum_squared_rows_y, sum_squared_rows_y,\n",
    "            squared_norm_y, squared_norm_y, n))\n",
    "\n",
    "    return dot_product_similarity / (normalization_x * normalization_y)"
   ]
  },
  {
   "cell_type": "code",
   "execution_count": null,
   "id": "62a966f8-411b-4b1e-86f7-bcc592df9e44",
   "metadata": {},
   "outputs": [
    {
     "name": "stdout",
     "output_type": "stream",
     "text": [
      "/pscratch/sd/k/kell/network-data-representation/src/train\n"
     ]
    },
    {
     "name": "stderr",
     "output_type": "stream",
     "text": [
      "/global/homes/k/kell/common_m4629/environments/netfound/lib/python3.11/site-packages/tqdm/auto.py:21: TqdmWarning: IProgress not found. Please update jupyter and ipywidgets. See https://ipywidgets.readthedocs.io/en/stable/user_install.html\n",
      "  from .autonotebook import tqdm as notebook_tqdm\n"
     ]
    }
   ],
   "source": [
    "# change folder to the netfound src folder\n",
    "\n",
    "import torch\n",
    "import torch.nn\n",
    "import threading\n",
    "from collections import defaultdict\n",
    "from NetFoundModels import NetFoundLanguageModelling, NetfoundFinetuningModel, NetFoundBase\n",
    "from NetfoundConfig import NetFoundLarge\n",
    "from NetfoundTokenizer import NetFoundTokenizer\n",
    "from NetFoundDataCollator import SimpleDataCollator\n",
    "from NetFoundTrainer import NetfoundTrainer\n",
    "from torch.utils.data import DataLoader\n",
    "from transformers import Trainer, TrainingArguments\n",
    "\n",
    "from datasets import load_dataset\n",
    "import pickle\n",
    "from tqdm import tqdm\n",
    "import copy\n",
    "import threading\n",
    "from collections import defaultdict\n",
    "\n",
    "def load_data(path, batch_size = 1):\n",
    "    tdataset = load_dataset(\"arrow\", data_dir=path, split=\"train\", cache_dir=\"/dev/shm/cachetmp\", streaming=False)\n",
    "    total_bursts_train = [0] * len(tdataset)\n",
    "    tdataset = tdataset.add_column(\"total_bursts\", total_bursts_train)\n",
    "    \n",
    "    config = NetFoundLarge()\n",
    "    config.pretraining = True\n",
    "    tokenizer = NetFoundTokenizer(config=config)\n",
    "    tokenizer.raw_labels = True\n",
    "    \n",
    "    def preprocess_function(examples):\n",
    "        return tokenizer(examples)\n",
    "\n",
    "    tdataset = tdataset.map(preprocess_function, batched=True, num_proc=110, load_from_cache_file=True)\n",
    "\n",
    "    data_loader = torch.utils.data.DataLoader(\n",
    "        tdataset.remove_columns(['burst_tokens', 'directions', 'counts']),\n",
    "        batch_size=batch_size,\n",
    "        num_workers=8,\n",
    "        prefetch_factor=2,\n",
    "        collate_fn=SimpleDataCollator(config.max_burst_length),\n",
    "        drop_last=True,\n",
    "    )\n",
    "    return tdataset, data_loader\n",
    "\n",
    "def encode(batch, model):\n",
    "    with torch.no_grad():\n",
    "        batch['position_ids'] = torch.arange(\n",
    "                batch['input_ids'].size(1),\n",
    "                device=batch['input_ids'].device\n",
    "            ).unsqueeze(0).expand(batch['input_ids'].size(0), -1)\n",
    "\n",
    "        output = model.base_transformer(\n",
    "            input_ids=batch['input_ids'].to(model.device),\n",
    "            attention_mask=batch['attention_mask'].to(model.device),\n",
    "            position_ids=batch['position_ids'].to(model.device),\n",
    "            direction=batch['direction'].to(model.device),\n",
    "            iats=batch['iats'].to(model.device),\n",
    "            bytes=batch['bytes'].to(model.device),\n",
    "            return_dict=True,\n",
    "            pkt_count=batch['pkt_count'].to(model.device),\n",
    "            protocol=batch['protocol'].to(model.device),\n",
    "        ).last_hidden_state\n",
    "        return torch.mean(output, 1).cpu(), batch[\"labels\"]\n",
    "\n",
    "def load_model(path: str):\n",
    "    config = NetFoundLarge()\n",
    "    return NetfoundFinetuningModel.from_pretrained(path, config=config, ignore_mismatched_sizes=True).to(\"cpu\")"
   ]
  },
  {
   "cell_type": "code",
   "execution_count": 3,
   "id": "3735522e-ef6a-41d5-838c-b14b66f95361",
   "metadata": {},
   "outputs": [],
   "source": [
    "BATCH_SIZE=512\n",
    "LIMIT=50000"
   ]
  },
  {
   "cell_type": "code",
   "execution_count": null,
   "id": "cb1f5ce4-97c6-4020-83a5-be51c9520fe2",
   "metadata": {},
   "outputs": [
    {
     "name": "stderr",
     "output_type": "stream",
     "text": [
      "[WARNING|modeling_utils.py:4815] 2025-04-20 22:17:13,024 >> Some weights of NetfoundFinetuningModel were not initialized from the model checkpoint at /global/homes/k/kell/scratch/ucsb_big_data/pretraining/jan17-48hrs-80gb/checkpoint-240000 and are newly initialized: ['classifier.bias', 'classifier.weight', 'hiddenLayer.bias', 'hiddenLayer.weight', 'hiddenLayer2.bias', 'hiddenLayer2.weight']\n",
      "You should probably TRAIN this model on a down-stream task to be able to use it for predictions and inference.\n",
      "Generating train split: 50000 examples [00:00, 3617588.10 examples/s]\n",
      "Map (num_proc=110): 100%|██████████| 50000/50000 [00:20<00:00, 2465.35 examples/s] \n"
     ]
    }
   ],
   "source": [
    "# load model and dataset\n",
    "model = load_model(\"/global/homes/k/kell/scratch/ucsb_big_data/pretraining/jan17-48hrs-80gb/checkpoint-240000\")\n",
    "model = model.to(\"cuda\")\n",
    "\n",
    "_, dataloader = load_data(\"/dev/shm/data/netfound\", batch_size=BATCH_SIZE)"
   ]
  },
  {
   "cell_type": "code",
   "execution_count": 5,
   "id": "241a62cf-0cfb-418c-89a6-54810c168adf",
   "metadata": {},
   "outputs": [],
   "source": [
    "def get_embedding(dataset, model, _flow_mask, random=False):\n",
    "    \"takes dataset, model, and binary mask for indices allowed for perturbation, generates random noise tensor with respect to the mask, applies it to the dataset, gets embeddings, returns resulting noise tensor and embeddings\"\n",
    "    embeddings = []\n",
    "    noises = []\n",
    "    sims = []\n",
    "    total = 0\n",
    "    for batch in tqdm(dataset):\n",
    "        orig_input = batch['input_ids'].clone().cpu()\n",
    "        if not random:\n",
    "            noise = batch['input_ids'].clone().cpu()\n",
    "            for col in range(batch['input_ids'].size(1)):\n",
    "                perm = torch.randperm(batch['input_ids'].size(0))\n",
    "                noise[:, col] = batch['input_ids'][perm, col]\n",
    "        else:\n",
    "            noise = torch.randint(low=0, high=65535, size=batch['input_ids'].size(), device=batch['input_ids'].device)  # random noise in the whole range of available tokens\n",
    "\n",
    "        flow_mask = _flow_mask.repeat(batch['input_ids'].size(0), 1).to(batch['input_ids'].device)\n",
    "        flow_mask = flow_mask[:, :batch['input_ids'].size(1)].bool()\n",
    "        batch['input_ids'][flow_mask] = noise[flow_mask]\n",
    "        sims.append((batch['input_ids'] == orig_input).float().mean().item())\n",
    "        perturbed_features, _ = encode(batch, model)\n",
    "        embeddings.append(perturbed_features)\n",
    "        total += batch['input_ids'].size(0)\n",
    "        if total > LIMIT:\n",
    "            break\n",
    "\n",
    "    print(f\"Similarity: {np.mean(sims)}\")\n",
    "    embeddings = torch.cat(embeddings)\n",
    "    return embeddings  "
   ]
  },
  {
   "cell_type": "code",
   "execution_count": 6,
   "id": "c5ea727d-1bb4-40ff-a639-3a6f4d1331c3",
   "metadata": {},
   "outputs": [],
   "source": [
    "# packet mask for tcp: 1 CLS token + (12 TCP tokens + 6 PAYLOAD)\n",
    "# full flow mask: (packet_mask * 6 packets/burst) * 12 bursts\n",
    "\n",
    "def repeat_mask(packet_mask):\n",
    "    \"takes packet mask and turns it into full-length netfound mask (packet, burst, flow)\"\n",
    "    burst_mask = packet_mask.repeat(1, 6)\n",
    "    burst_mask = torch.cat((torch.tensor([0]).unsqueeze(0), burst_mask), dim=1)\n",
    "    flow_mask = burst_mask.repeat(1, 12)\n",
    "    return flow_mask"
   ]
  },
  {
   "cell_type": "code",
   "execution_count": 7,
   "id": "bf0b164b-be25-4fc6-81d4-7a54fd7fec59",
   "metadata": {},
   "outputs": [],
   "source": [
    "def _perturb(packet_mask, random=False):\n",
    "    return get_embedding(dataloader, model, repeat_mask(packet_mask), random=random)"
   ]
  },
  {
   "cell_type": "code",
   "execution_count": 8,
   "id": "dc079a9e-1a31-4152-997a-f7f51c152145",
   "metadata": {},
   "outputs": [],
   "source": [
    "from sklearn.feature_selection import mutual_info_regression\n",
    "import torch\n",
    "\n",
    "# define correlation calculation function\n",
    "\n",
    "# def calculate_correlation(emb_original: torch.Tensor, noise: torch.Tensor, emb_perturbed: torch.Tensor) -> (float, float, np.ndarray):\n",
    "#     '''accepts original embedding, noise, and embedding after perturbation, and calculates similarity correlation between noise and each dimension of the perturbation result'''\n",
    "#     emb_diff = emb_perturbed - emb_original\n",
    "\n",
    "#     cos_sim = torch.nn.functional.cosine_similarity(emb_perturbed, emb_original).mean()\n",
    "#     l2_dist = torch.cdist(emb_perturbed, emb_original, p=2).mean()\n",
    "\n",
    "#     emb_diff_np = emb_diff.detach().cpu().numpy()\n",
    "#     noise_np = noise.detach().cpu().numpy()\n",
    "#     noise_np = noise_np[:, noise_np.any(axis=0)]  # keep only non zero noise columns effectively removing masked out columns \n",
    "\n",
    "#     n_dims = emb_diff_np.shape[1]\n",
    "#     cka_scores = np.zeros(n_dims)\n",
    "    \n",
    "#     for d in tqdm(range(n_dims)):\n",
    "#         # extract the nth column as a 2D array\n",
    "#         feature_column = emb_diff_np[:, d].reshape(-1, 1)\n",
    "#         cka_scores[d] = feature_space_linear_cka(noise_np, feature_column)\n",
    "\n",
    "#     return cos_sim, l2_dist, cka_scores\n",
    "\n",
    "def calculate_correlation(emb_original: torch.Tensor, emb_perturbed: torch.Tensor):\n",
    "    # shorter version - only cos sim\n",
    "    return torch.nn.functional.cosine_similarity(emb_perturbed, emb_original).mean()"
   ]
  },
  {
   "cell_type": "code",
   "execution_count": 9,
   "id": "76517369-4e5a-4f1c-8232-dcef3e71ea20",
   "metadata": {},
   "outputs": [
    {
     "name": "stderr",
     "output_type": "stream",
     "text": [
      "/global/homes/k/kell/.local/lib/python3.11/site-packages/transformers/modeling_utils.py:1172: FutureWarning: The `device` argument is deprecated and will be removed in v5 of Transformers.\n",
      "  warnings.warn(\n",
      "100%|██████████| 97/97 [21:30<00:00, 13.31s/it]"
     ]
    },
    {
     "name": "stdout",
     "output_type": "stream",
     "text": [
      "Similarity: 1.0\n"
     ]
    },
    {
     "name": "stderr",
     "output_type": "stream",
     "text": [
      "\n"
     ]
    }
   ],
   "source": [
    "# original embeddings\n",
    "mask = torch.tensor([0] * 12 + [0] * 6)  # zero mask\n",
    "original_embeddings = _perturb(mask)"
   ]
  },
  {
   "cell_type": "code",
   "execution_count": 10,
   "id": "8d4a00a7-ea2d-4405-a476-5c9123a1fb4d",
   "metadata": {},
   "outputs": [],
   "source": [
    "def calculate_similarity(mask):\n",
    "    with torch.no_grad():\n",
    "        new_emb = _perturb(mask, random=True)\n",
    "        cos_sim = calculate_correlation(original_embeddings, new_emb)\n",
    "        print(f\"Cos sim for random source perturbation: {cos_sim}\")\n",
    "    \n",
    "        new_emb = _perturb(mask)\n",
    "        cos_sim = calculate_correlation(original_embeddings, new_emb)\n",
    "        print(f\"Cos sim for reordered perturbation: {cos_sim}\")"
   ]
  },
  {
   "cell_type": "code",
   "execution_count": 11,
   "id": "ab9917e2-7212-4b2d-aeb6-427170a538cd",
   "metadata": {
    "scrolled": true
   },
   "outputs": [
    {
     "name": "stderr",
     "output_type": "stream",
     "text": [
      "100%|██████████| 97/97 [21:22<00:00, 13.22s/it]\n"
     ]
    },
    {
     "name": "stdout",
     "output_type": "stream",
     "text": [
      "Similarity: 0.6697292758017471\n",
      "Cos sim for random source perturbation: 0.9967212677001953\n"
     ]
    },
    {
     "name": "stderr",
     "output_type": "stream",
     "text": [
      "100%|██████████| 97/97 [21:23<00:00, 13.23s/it]"
     ]
    },
    {
     "name": "stdout",
     "output_type": "stream",
     "text": [
      "Similarity: 0.9884606999220308\n",
      "Cos sim for reordered perturbation: 0.9966378808021545\n"
     ]
    },
    {
     "name": "stderr",
     "output_type": "stream",
     "text": [
      "\n"
     ]
    }
   ],
   "source": [
    "# payload\n",
    "calculate_similarity(torch.tensor([0] * 12 + [1] * 6))"
   ]
  },
  {
   "cell_type": "code",
   "execution_count": 12,
   "id": "e149d3c9-0dac-4899-b839-094c77c67ad2",
   "metadata": {},
   "outputs": [
    {
     "name": "stderr",
     "output_type": "stream",
     "text": [
      "100%|██████████| 97/97 [21:20<00:00, 13.20s/it]\n"
     ]
    },
    {
     "name": "stdout",
     "output_type": "stream",
     "text": [
      "Similarity: 0.77982005753468\n",
      "Cos sim for random source perturbation: 0.9956346750259399\n"
     ]
    },
    {
     "name": "stderr",
     "output_type": "stream",
     "text": [
      "100%|██████████| 97/97 [21:23<00:00, 13.23s/it]"
     ]
    },
    {
     "name": "stdout",
     "output_type": "stream",
     "text": [
      "Similarity: 0.9939544059566616\n",
      "Cos sim for reordered perturbation: 0.9978488087654114\n"
     ]
    },
    {
     "name": "stderr",
     "output_type": "stream",
     "text": [
      "\n"
     ]
    }
   ],
   "source": [
    "# SEQ/ACK\n",
    "calculate_similarity(torch.tensor([0] * 7 + [1] * 4 + [0] * 7))"
   ]
  },
  {
   "cell_type": "code",
   "execution_count": 13,
   "id": "738885f0-c439-47f3-b362-ece1ab7e16d0",
   "metadata": {},
   "outputs": [
    {
     "name": "stderr",
     "output_type": "stream",
     "text": [
      "100%|██████████| 97/97 [21:21<00:00, 13.21s/it]\n"
     ]
    },
    {
     "name": "stdout",
     "output_type": "stream",
     "text": [
      "Similarity: 0.9449553508119485\n",
      "Cos sim for random source perturbation: 0.9985465407371521\n"
     ]
    },
    {
     "name": "stderr",
     "output_type": "stream",
     "text": [
      "100%|██████████| 97/97 [21:23<00:00, 13.24s/it]"
     ]
    },
    {
     "name": "stdout",
     "output_type": "stream",
     "text": [
      "Similarity: 0.9972808367198276\n",
      "Cos sim for reordered perturbation: 0.9958544969558716\n"
     ]
    },
    {
     "name": "stderr",
     "output_type": "stream",
     "text": [
      "\n"
     ]
    }
   ],
   "source": [
    "# IP total length\n",
    "calculate_similarity(torch.tensor([0] * 2 + [1] * 1 + [0] * 15))"
   ]
  },
  {
   "cell_type": "code",
   "execution_count": 14,
   "id": "2655ef79-319a-404c-aa74-f65ef6d11eb1",
   "metadata": {},
   "outputs": [
    {
     "name": "stderr",
     "output_type": "stream",
     "text": [
      "100%|██████████| 97/97 [21:21<00:00, 13.21s/it]\n"
     ]
    },
    {
     "name": "stdout",
     "output_type": "stream",
     "text": [
      "Similarity: 0.9449549268201455\n",
      "Cos sim for random source perturbation: 0.9802705645561218\n"
     ]
    },
    {
     "name": "stderr",
     "output_type": "stream",
     "text": [
      "100%|██████████| 97/97 [21:24<00:00, 13.24s/it]"
     ]
    },
    {
     "name": "stdout",
     "output_type": "stream",
     "text": [
      "Similarity: 0.9971000668928796\n",
      "Cos sim for reordered perturbation: 0.9937946796417236\n"
     ]
    },
    {
     "name": "stderr",
     "output_type": "stream",
     "text": [
      "\n"
     ]
    }
   ],
   "source": [
    "# IP TTL\n",
    "calculate_similarity(torch.tensor([0] * 4 + [1] * 1 + [0] * 13))"
   ]
  },
  {
   "cell_type": "code",
   "execution_count": 15,
   "id": "cc1b9432-e7c5-415d-b020-d5295c93247f",
   "metadata": {},
   "outputs": [
    {
     "name": "stderr",
     "output_type": "stream",
     "text": [
      "100%|██████████| 97/97 [21:20<00:00, 13.21s/it]\n"
     ]
    },
    {
     "name": "stdout",
     "output_type": "stream",
     "text": [
      "Similarity: 0.9449550005578503\n",
      "Cos sim for random source perturbation: 0.9981660842895508\n"
     ]
    },
    {
     "name": "stderr",
     "output_type": "stream",
     "text": [
      "100%|██████████| 97/97 [21:24<00:00, 13.24s/it]"
     ]
    },
    {
     "name": "stdout",
     "output_type": "stream",
     "text": [
      "Similarity: 0.9973518780826294\n",
      "Cos sim for reordered perturbation: 0.9958410263061523\n"
     ]
    },
    {
     "name": "stderr",
     "output_type": "stream",
     "text": [
      "\n"
     ]
    }
   ],
   "source": [
    "# TCP Flags\n",
    "calculate_similarity(torch.tensor([0] * 5 + [1] * 1 + [0] * 12))"
   ]
  },
  {
   "cell_type": "code",
   "execution_count": 16,
   "id": "8982fd6d-2da7-4354-a0d9-6d59e305010c",
   "metadata": {},
   "outputs": [
    {
     "name": "stderr",
     "output_type": "stream",
     "text": [
      "100%|██████████| 97/97 [21:21<00:00, 13.21s/it]\n"
     ]
    },
    {
     "name": "stdout",
     "output_type": "stream",
     "text": [
      "Similarity: 0.9449548229728777\n",
      "Cos sim for random source perturbation: 0.998673141002655\n"
     ]
    },
    {
     "name": "stderr",
     "output_type": "stream",
     "text": [
      "100%|██████████| 97/97 [21:24<00:00, 13.24s/it]"
     ]
    },
    {
     "name": "stdout",
     "output_type": "stream",
     "text": [
      "Similarity: 0.9972391822903427\n",
      "Cos sim for reordered perturbation: 0.9974313378334045\n"
     ]
    },
    {
     "name": "stderr",
     "output_type": "stream",
     "text": [
      "\n"
     ]
    }
   ],
   "source": [
    "# TCP WSize\n",
    "calculate_similarity(torch.tensor([0] * 6 + [1] * 1 + [0] * 11))"
   ]
  },
  {
   "cell_type": "code",
   "execution_count": null,
   "id": "570b2c00-88b4-4f5d-bdd8-34564ac74e40",
   "metadata": {},
   "outputs": [],
   "source": []
  }
 ],
 "metadata": {
  "kernelspec": {
   "display_name": "netfound",
   "language": "python",
   "name": "netfound"
  },
  "language_info": {
   "codemirror_mode": {
    "name": "ipython",
    "version": 3
   },
   "file_extension": ".py",
   "mimetype": "text/x-python",
   "name": "python",
   "nbconvert_exporter": "python",
   "pygments_lexer": "ipython3",
   "version": "3.11.10"
  }
 },
 "nbformat": 4,
 "nbformat_minor": 5
}
